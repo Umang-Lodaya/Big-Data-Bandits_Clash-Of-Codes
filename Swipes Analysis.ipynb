{
  "cells": [
    {
      "cell_type": "markdown",
      "metadata": {
        "id": "WvSZZ6IDUksX"
      },
      "source": [
        "#Swipes data cleaning"
      ]
    },
    {
      "cell_type": "code",
      "execution_count": 5,
      "metadata": {
        "colab": {
          "base_uri": "https://localhost:8080/",
          "height": 641
        },
        "id": "u0oGRxJ4U_nh",
        "outputId": "13c847f0-9b34-4a9b-b678-fe7c3b0001f4"
      },
      "outputs": [],
      "source": [
        "import pandas as pd\n",
        "# url2=\"https://raw.githubusercontent.com/kushalpoddar/idyll-dummy-dataset/main/swipes.csv\"\n",
        "# swipes=pd.read_csv(url2,low_memory=False)\n",
        "swipes=pd.read_csv('./swipes.csv',low_memory=False)   "
      ]
    },
    {
      "cell_type": "markdown",
      "metadata": {
        "id": "I4vZZx0ArD3T"
      },
      "source": [
        "Devising a scoring function. Profile score is a user’s profile score\n",
        "having parameters like verified, if 100% completion, number of users\n",
        "liked him/her, number of matches received, paid subscription or a free\n",
        "profile, verified user or not, number of likes done vs received, dislike\n",
        "by likes ratio performed and received,"
      ]
    },
    {
      "cell_type": "code",
      "execution_count": 6,
      "metadata": {
        "colab": {
          "base_uri": "https://localhost:8080/"
        },
        "id": "fNXB2fY0XHtq",
        "outputId": "abc56251-6b19-4072-af94-70d68c55a83a"
      },
      "outputs": [
        {
          "name": "stdout",
          "output_type": "stream",
          "text": [
            "<class 'pandas.core.frame.DataFrame'>\n",
            "RangeIndex: 66622 entries, 0 to 66621\n",
            "Data columns (total 14 columns):\n",
            " #   Column                 Non-Null Count  Dtype \n",
            "---  ------                 --------------  ----- \n",
            " 0   id                     66622 non-null  int64 \n",
            " 1   first_like_unlike_at   66622 non-null  object\n",
            " 2   first_msg              169 non-null    object\n",
            " 3   first_type             66622 non-null  object\n",
            " 4   is_unmatch             66622 non-null  bool  \n",
            " 5   like_count             66622 non-null  int64 \n",
            " 6   p1                     66622 non-null  int64 \n",
            " 7   p1_extend_at           102 non-null    object\n",
            " 8   p2                     66622 non-null  int64 \n",
            " 9   p2_extend_at           151 non-null    object\n",
            " 10  second_like_unlike_at  4730 non-null   object\n",
            " 11  second_msg             26 non-null     object\n",
            " 12  second_type            4730 non-null   object\n",
            " 13  unmatch_on             147 non-null    object\n",
            "dtypes: bool(1), int64(4), object(9)\n",
            "memory usage: 6.7+ MB\n"
          ]
        }
      ],
      "source": [
        "swipes.info()"
      ]
    },
    {
      "cell_type": "code",
      "execution_count": 7,
      "metadata": {
        "colab": {
          "base_uri": "https://localhost:8080/"
        },
        "id": "rvRAiIdWVW1S",
        "outputId": "09ceaefd-f096-418f-dde9-50dc22a59c17"
      },
      "outputs": [
        {
          "name": "stdout",
          "output_type": "stream",
          "text": [
            "<class 'pandas.core.frame.DataFrame'>\n",
            "RangeIndex: 66622 entries, 0 to 66621\n",
            "Data columns (total 9 columns):\n",
            " #   Column                 Non-Null Count  Dtype \n",
            "---  ------                 --------------  ----- \n",
            " 0   first_like_unlike_at   66622 non-null  object\n",
            " 1   first_type             66622 non-null  object\n",
            " 2   is_unmatch             66622 non-null  bool  \n",
            " 3   like_count             66622 non-null  int64 \n",
            " 4   p1                     66622 non-null  int64 \n",
            " 5   p2                     66622 non-null  int64 \n",
            " 6   second_like_unlike_at  4730 non-null   object\n",
            " 7   second_type            4730 non-null   object\n",
            " 8   unmatch_on             147 non-null    object\n",
            "dtypes: bool(1), int64(3), object(5)\n",
            "memory usage: 4.1+ MB\n"
          ]
        }
      ],
      "source": [
        "cols=['first_like_unlike_at','first_type','is_unmatch','like_count','p1','p2','second_like_unlike_at','second_type','unmatch_on']\n",
        "swipes=swipes[cols]\n",
        "swipes.info()"
      ]
    },
    {
      "cell_type": "code",
      "execution_count": 8,
      "metadata": {
        "colab": {
          "base_uri": "https://localhost:8080/"
        },
        "id": "OtYv3tplWRPm",
        "outputId": "34ce4371-ea4d-4856-eaf0-a32788281ac4"
      },
      "outputs": [
        {
          "data": {
            "text/plain": [
              "66475"
            ]
          },
          "execution_count": 8,
          "metadata": {},
          "output_type": "execute_result"
        }
      ],
      "source": [
        "swipes['unmatch_on'].isna().sum()"
      ]
    },
    {
      "cell_type": "code",
      "execution_count": 9,
      "metadata": {
        "colab": {
          "base_uri": "https://localhost:8080/"
        },
        "id": "JwxY3qDnWfXD",
        "outputId": "7cdc36ae-0984-48e9-eab8-e70d6c84ace3"
      },
      "outputs": [
        {
          "data": {
            "text/plain": [
              "first_like_unlike_at         0\n",
              "first_type                   0\n",
              "is_unmatch                   0\n",
              "like_count                   0\n",
              "p1                           0\n",
              "p2                           0\n",
              "second_like_unlike_at    61892\n",
              "second_type              61892\n",
              "unmatch_on               66475\n",
              "dtype: int64"
            ]
          },
          "execution_count": 9,
          "metadata": {},
          "output_type": "execute_result"
        }
      ],
      "source": [
        "swipes.isna().sum()"
      ]
    },
    {
      "cell_type": "code",
      "execution_count": 10,
      "metadata": {
        "colab": {
          "base_uri": "https://localhost:8080/"
        },
        "id": "k5n2UEdAYo-x",
        "outputId": "3dd7eaee-d926-489e-8e3a-3616fd624422"
      },
      "outputs": [
        {
          "data": {
            "text/plain": [
              "11      663\n",
              "1238    602\n",
              "2       351\n",
              "1098    318\n",
              "831     276\n",
              "       ... \n",
              "112       2\n",
              "1192      2\n",
              "1142      1\n",
              "1188      1\n",
              "643       1\n",
              "Name: p1, Length: 1055, dtype: int64"
            ]
          },
          "execution_count": 10,
          "metadata": {},
          "output_type": "execute_result"
        }
      ],
      "source": [
        "swipes.p1.value_counts()"
      ]
    },
    {
      "cell_type": "code",
      "execution_count": 11,
      "metadata": {
        "colab": {
          "base_uri": "https://localhost:8080/"
        },
        "id": "HQAg1yQIan-Z",
        "outputId": "f5ac421d-957c-4123-cdf7-da6a9acb5651"
      },
      "outputs": [
        {
          "data": {
            "text/plain": [
              "170     358\n",
              "160     350\n",
              "224     348\n",
              "450     347\n",
              "404     347\n",
              "       ... \n",
              "243       1\n",
              "28        1\n",
              "27        1\n",
              "942       1\n",
              "1402      1\n",
              "Name: p2, Length: 1042, dtype: int64"
            ]
          },
          "execution_count": 11,
          "metadata": {},
          "output_type": "execute_result"
        }
      ],
      "source": [
        "swipes.p2.value_counts()"
      ]
    },
    {
      "cell_type": "code",
      "execution_count": 12,
      "metadata": {
        "colab": {
          "base_uri": "https://localhost:8080/"
        },
        "id": "g4hpd7BUbxeK",
        "outputId": "67918325-b3e6-422a-fd94-5974e680a453"
      },
      "outputs": [
        {
          "data": {
            "text/plain": [
              "0"
            ]
          },
          "execution_count": 12,
          "metadata": {},
          "output_type": "execute_result"
        }
      ],
      "source": [
        "swipes.p1.isna().sum()"
      ]
    },
    {
      "cell_type": "code",
      "execution_count": 13,
      "metadata": {
        "colab": {
          "base_uri": "https://localhost:8080/",
          "height": 206
        },
        "id": "3nuUPRVWci7n",
        "outputId": "b3b74613-8cb4-4f12-f59e-28f95ce4a471"
      },
      "outputs": [
        {
          "data": {
            "text/html": [
              "<div>\n",
              "<style scoped>\n",
              "    .dataframe tbody tr th:only-of-type {\n",
              "        vertical-align: middle;\n",
              "    }\n",
              "\n",
              "    .dataframe tbody tr th {\n",
              "        vertical-align: top;\n",
              "    }\n",
              "\n",
              "    .dataframe thead th {\n",
              "        text-align: right;\n",
              "    }\n",
              "</style>\n",
              "<table border=\"1\" class=\"dataframe\">\n",
              "  <thead>\n",
              "    <tr style=\"text-align: right;\">\n",
              "      <th></th>\n",
              "      <th>first_like_unlike_at</th>\n",
              "      <th>first_type</th>\n",
              "      <th>is_unmatch</th>\n",
              "      <th>like_count</th>\n",
              "      <th>p1</th>\n",
              "      <th>p2</th>\n",
              "      <th>second_like_unlike_at</th>\n",
              "      <th>second_type</th>\n",
              "      <th>unmatch_on</th>\n",
              "    </tr>\n",
              "  </thead>\n",
              "  <tbody>\n",
              "    <tr>\n",
              "      <th>66540</th>\n",
              "      <td>2023-03-03T17:58:43.895Z</td>\n",
              "      <td>LIKE</td>\n",
              "      <td>False</td>\n",
              "      <td>1</td>\n",
              "      <td>1404</td>\n",
              "      <td>1064</td>\n",
              "      <td>NaN</td>\n",
              "      <td>NaN</td>\n",
              "      <td>NaN</td>\n",
              "    </tr>\n",
              "    <tr>\n",
              "      <th>66541</th>\n",
              "      <td>2023-03-03T17:58:48.321Z</td>\n",
              "      <td>DISLIKE</td>\n",
              "      <td>False</td>\n",
              "      <td>1</td>\n",
              "      <td>1404</td>\n",
              "      <td>1098</td>\n",
              "      <td>NaN</td>\n",
              "      <td>NaN</td>\n",
              "      <td>NaN</td>\n",
              "    </tr>\n",
              "    <tr>\n",
              "      <th>66542</th>\n",
              "      <td>2023-03-03T17:58:53.994Z</td>\n",
              "      <td>LIKE</td>\n",
              "      <td>False</td>\n",
              "      <td>1</td>\n",
              "      <td>1404</td>\n",
              "      <td>940</td>\n",
              "      <td>NaN</td>\n",
              "      <td>NaN</td>\n",
              "      <td>NaN</td>\n",
              "    </tr>\n",
              "    <tr>\n",
              "      <th>66543</th>\n",
              "      <td>2023-03-03T17:58:57.018Z</td>\n",
              "      <td>LIKE</td>\n",
              "      <td>False</td>\n",
              "      <td>1</td>\n",
              "      <td>1404</td>\n",
              "      <td>1223</td>\n",
              "      <td>NaN</td>\n",
              "      <td>NaN</td>\n",
              "      <td>NaN</td>\n",
              "    </tr>\n",
              "    <tr>\n",
              "      <th>66544</th>\n",
              "      <td>2023-03-03T17:59:01.925Z</td>\n",
              "      <td>LIKE</td>\n",
              "      <td>False</td>\n",
              "      <td>1</td>\n",
              "      <td>1404</td>\n",
              "      <td>1178</td>\n",
              "      <td>NaN</td>\n",
              "      <td>NaN</td>\n",
              "      <td>NaN</td>\n",
              "    </tr>\n",
              "  </tbody>\n",
              "</table>\n",
              "</div>"
            ],
            "text/plain": [
              "           first_like_unlike_at first_type  is_unmatch  like_count    p1  \\\n",
              "66540  2023-03-03T17:58:43.895Z       LIKE       False           1  1404   \n",
              "66541  2023-03-03T17:58:48.321Z    DISLIKE       False           1  1404   \n",
              "66542  2023-03-03T17:58:53.994Z       LIKE       False           1  1404   \n",
              "66543  2023-03-03T17:58:57.018Z       LIKE       False           1  1404   \n",
              "66544  2023-03-03T17:59:01.925Z       LIKE       False           1  1404   \n",
              "\n",
              "         p2 second_like_unlike_at second_type unmatch_on  \n",
              "66540  1064                   NaN         NaN        NaN  \n",
              "66541  1098                   NaN         NaN        NaN  \n",
              "66542   940                   NaN         NaN        NaN  \n",
              "66543  1223                   NaN         NaN        NaN  \n",
              "66544  1178                   NaN         NaN        NaN  "
            ]
          },
          "execution_count": 13,
          "metadata": {},
          "output_type": "execute_result"
        }
      ],
      "source": [
        "swipes = swipes.sort_values(by=['p1','first_like_unlike_at'], ascending=[True,True])\n",
        "swipes.tail()"
      ]
    },
    {
      "cell_type": "code",
      "execution_count": 14,
      "metadata": {
        "colab": {
          "base_uri": "https://localhost:8080/"
        },
        "id": "kmP1lf7WdWFH",
        "outputId": "0a2b1a4e-9827-478f-f495-d7ca97babeb9"
      },
      "outputs": [
        {
          "data": {
            "text/plain": [
              "11      663\n",
              "1238    602\n",
              "2       351\n",
              "1098    318\n",
              "831     276\n",
              "       ... \n",
              "20        2\n",
              "112       2\n",
              "1142      1\n",
              "1188      1\n",
              "643       1\n",
              "Name: p1, Length: 1055, dtype: int64"
            ]
          },
          "execution_count": 14,
          "metadata": {},
          "output_type": "execute_result"
        }
      ],
      "source": [
        "swipes['p1'].value_counts()\n"
      ]
    },
    {
      "cell_type": "code",
      "execution_count": 15,
      "metadata": {
        "colab": {
          "base_uri": "https://localhost:8080/"
        },
        "id": "_ReN4TZQduQm",
        "outputId": "12bd6698-1bb2-4f3b-c61f-3cf6f0283cac"
      },
      "outputs": [
        {
          "data": {
            "text/plain": [
              "170     358\n",
              "160     350\n",
              "224     348\n",
              "404     347\n",
              "450     347\n",
              "       ... \n",
              "989       1\n",
              "996       1\n",
              "1060      1\n",
              "929       1\n",
              "1385      1\n",
              "Name: p2, Length: 1042, dtype: int64"
            ]
          },
          "execution_count": 15,
          "metadata": {},
          "output_type": "execute_result"
        }
      ],
      "source": [
        "swipes['p2'].value_counts()"
      ]
    },
    {
      "cell_type": "code",
      "execution_count": 16,
      "metadata": {
        "colab": {
          "base_uri": "https://localhost:8080/"
        },
        "id": "kp09U1oveZOG",
        "outputId": "d1aed37b-dc14-4dca-d9d2-729362fd8abb"
      },
      "outputs": [
        {
          "data": {
            "text/plain": [
              "False    66475\n",
              "True       147\n",
              "Name: is_unmatch, dtype: int64"
            ]
          },
          "execution_count": 16,
          "metadata": {},
          "output_type": "execute_result"
        }
      ],
      "source": [
        "swipes['is_unmatch'].value_counts()"
      ]
    },
    {
      "cell_type": "code",
      "execution_count": 17,
      "metadata": {
        "colab": {
          "base_uri": "https://localhost:8080/",
          "height": 423
        },
        "id": "Qbc7agLvexW3",
        "outputId": "477067a8-484c-4ef8-a7b5-5d4673df9686"
      },
      "outputs": [
        {
          "data": {
            "text/html": [
              "<div>\n",
              "<style scoped>\n",
              "    .dataframe tbody tr th:only-of-type {\n",
              "        vertical-align: middle;\n",
              "    }\n",
              "\n",
              "    .dataframe tbody tr th {\n",
              "        vertical-align: top;\n",
              "    }\n",
              "\n",
              "    .dataframe thead th {\n",
              "        text-align: right;\n",
              "    }\n",
              "</style>\n",
              "<table border=\"1\" class=\"dataframe\">\n",
              "  <thead>\n",
              "    <tr style=\"text-align: right;\">\n",
              "      <th></th>\n",
              "      <th>first_like_unlike_at</th>\n",
              "      <th>first_type</th>\n",
              "      <th>is_unmatch</th>\n",
              "      <th>like_count</th>\n",
              "      <th>p1</th>\n",
              "      <th>p2</th>\n",
              "      <th>second_like_unlike_at</th>\n",
              "      <th>second_type</th>\n",
              "      <th>unmatch_on</th>\n",
              "    </tr>\n",
              "  </thead>\n",
              "  <tbody>\n",
              "    <tr>\n",
              "      <th>212</th>\n",
              "      <td>2023-02-08T05:13:13.430Z</td>\n",
              "      <td>LIKE</td>\n",
              "      <td>True</td>\n",
              "      <td>2</td>\n",
              "      <td>0</td>\n",
              "      <td>35</td>\n",
              "      <td>2023-02-09T06:39:18.142Z</td>\n",
              "      <td>LIKE</td>\n",
              "      <td>2023-02-11T11:31:48.390Z</td>\n",
              "    </tr>\n",
              "    <tr>\n",
              "      <th>9002</th>\n",
              "      <td>2023-02-09T13:26:31.608Z</td>\n",
              "      <td>LIKE</td>\n",
              "      <td>True</td>\n",
              "      <td>2</td>\n",
              "      <td>2</td>\n",
              "      <td>468</td>\n",
              "      <td>2023-02-10T02:21:28.070Z</td>\n",
              "      <td>LIKE</td>\n",
              "      <td>2023-02-13T19:27:37.333Z</td>\n",
              "    </tr>\n",
              "    <tr>\n",
              "      <th>30545</th>\n",
              "      <td>2023-02-14T19:54:16.975Z</td>\n",
              "      <td>LIKE</td>\n",
              "      <td>True</td>\n",
              "      <td>2</td>\n",
              "      <td>2</td>\n",
              "      <td>1029</td>\n",
              "      <td>2023-02-15T00:36:53.312Z</td>\n",
              "      <td>LIKE</td>\n",
              "      <td>2023-02-16T17:45:39.455Z</td>\n",
              "    </tr>\n",
              "    <tr>\n",
              "      <th>30554</th>\n",
              "      <td>2023-02-14T19:54:36.951Z</td>\n",
              "      <td>DISLIKE</td>\n",
              "      <td>True</td>\n",
              "      <td>2</td>\n",
              "      <td>2</td>\n",
              "      <td>982</td>\n",
              "      <td>2023-02-24T15:50:59.927Z</td>\n",
              "      <td>DISLIKE</td>\n",
              "      <td>2023-02-24T15:51:06.011Z</td>\n",
              "    </tr>\n",
              "    <tr>\n",
              "      <th>11489</th>\n",
              "      <td>2023-02-10T06:29:50.741Z</td>\n",
              "      <td>LIKE</td>\n",
              "      <td>True</td>\n",
              "      <td>2</td>\n",
              "      <td>3</td>\n",
              "      <td>259</td>\n",
              "      <td>2023-02-10T08:52:55.902Z</td>\n",
              "      <td>LIKE</td>\n",
              "      <td>2023-02-10T09:29:00.331Z</td>\n",
              "    </tr>\n",
              "    <tr>\n",
              "      <th>...</th>\n",
              "      <td>...</td>\n",
              "      <td>...</td>\n",
              "      <td>...</td>\n",
              "      <td>...</td>\n",
              "      <td>...</td>\n",
              "      <td>...</td>\n",
              "      <td>...</td>\n",
              "      <td>...</td>\n",
              "      <td>...</td>\n",
              "    </tr>\n",
              "    <tr>\n",
              "      <th>45540</th>\n",
              "      <td>2023-02-18T17:36:26.651Z</td>\n",
              "      <td>LIKE</td>\n",
              "      <td>True</td>\n",
              "      <td>2</td>\n",
              "      <td>1252</td>\n",
              "      <td>7</td>\n",
              "      <td>2023-02-21T07:31:15.678Z</td>\n",
              "      <td>LIKE</td>\n",
              "      <td>2023-02-24T07:40:33.784Z</td>\n",
              "    </tr>\n",
              "    <tr>\n",
              "      <th>48233</th>\n",
              "      <td>2023-02-20T03:54:31.612Z</td>\n",
              "      <td>LIKE</td>\n",
              "      <td>True</td>\n",
              "      <td>2</td>\n",
              "      <td>1270</td>\n",
              "      <td>7</td>\n",
              "      <td>2023-02-21T07:29:20.974Z</td>\n",
              "      <td>LIKE</td>\n",
              "      <td>2023-02-23T17:06:34.654Z</td>\n",
              "    </tr>\n",
              "    <tr>\n",
              "      <th>54698</th>\n",
              "      <td>2023-02-22T20:41:23.734Z</td>\n",
              "      <td>LIKE</td>\n",
              "      <td>True</td>\n",
              "      <td>2</td>\n",
              "      <td>1306</td>\n",
              "      <td>1238</td>\n",
              "      <td>2023-02-24T11:41:18.643Z</td>\n",
              "      <td>LIKE</td>\n",
              "      <td>2023-03-02T07:41:35.831Z</td>\n",
              "    </tr>\n",
              "    <tr>\n",
              "      <th>54700</th>\n",
              "      <td>2023-02-22T20:41:35.524Z</td>\n",
              "      <td>LIKE</td>\n",
              "      <td>True</td>\n",
              "      <td>2</td>\n",
              "      <td>1306</td>\n",
              "      <td>1227</td>\n",
              "      <td>2023-02-26T08:09:45.056Z</td>\n",
              "      <td>LIKE</td>\n",
              "      <td>2023-03-02T07:41:11.864Z</td>\n",
              "    </tr>\n",
              "    <tr>\n",
              "      <th>58849</th>\n",
              "      <td>2023-02-25T08:20:53.243Z</td>\n",
              "      <td>LIKE</td>\n",
              "      <td>True</td>\n",
              "      <td>2</td>\n",
              "      <td>1322</td>\n",
              "      <td>1337</td>\n",
              "      <td>2023-02-25T08:24:01.112Z</td>\n",
              "      <td>DISLIKE</td>\n",
              "      <td>2023-02-25T09:03:35.883Z</td>\n",
              "    </tr>\n",
              "  </tbody>\n",
              "</table>\n",
              "<p>147 rows × 9 columns</p>\n",
              "</div>"
            ],
            "text/plain": [
              "           first_like_unlike_at first_type  is_unmatch  like_count    p1  \\\n",
              "212    2023-02-08T05:13:13.430Z       LIKE        True           2     0   \n",
              "9002   2023-02-09T13:26:31.608Z       LIKE        True           2     2   \n",
              "30545  2023-02-14T19:54:16.975Z       LIKE        True           2     2   \n",
              "30554  2023-02-14T19:54:36.951Z    DISLIKE        True           2     2   \n",
              "11489  2023-02-10T06:29:50.741Z       LIKE        True           2     3   \n",
              "...                         ...        ...         ...         ...   ...   \n",
              "45540  2023-02-18T17:36:26.651Z       LIKE        True           2  1252   \n",
              "48233  2023-02-20T03:54:31.612Z       LIKE        True           2  1270   \n",
              "54698  2023-02-22T20:41:23.734Z       LIKE        True           2  1306   \n",
              "54700  2023-02-22T20:41:35.524Z       LIKE        True           2  1306   \n",
              "58849  2023-02-25T08:20:53.243Z       LIKE        True           2  1322   \n",
              "\n",
              "         p2     second_like_unlike_at second_type                unmatch_on  \n",
              "212      35  2023-02-09T06:39:18.142Z        LIKE  2023-02-11T11:31:48.390Z  \n",
              "9002    468  2023-02-10T02:21:28.070Z        LIKE  2023-02-13T19:27:37.333Z  \n",
              "30545  1029  2023-02-15T00:36:53.312Z        LIKE  2023-02-16T17:45:39.455Z  \n",
              "30554   982  2023-02-24T15:50:59.927Z     DISLIKE  2023-02-24T15:51:06.011Z  \n",
              "11489   259  2023-02-10T08:52:55.902Z        LIKE  2023-02-10T09:29:00.331Z  \n",
              "...     ...                       ...         ...                       ...  \n",
              "45540     7  2023-02-21T07:31:15.678Z        LIKE  2023-02-24T07:40:33.784Z  \n",
              "48233     7  2023-02-21T07:29:20.974Z        LIKE  2023-02-23T17:06:34.654Z  \n",
              "54698  1238  2023-02-24T11:41:18.643Z        LIKE  2023-03-02T07:41:35.831Z  \n",
              "54700  1227  2023-02-26T08:09:45.056Z        LIKE  2023-03-02T07:41:11.864Z  \n",
              "58849  1337  2023-02-25T08:24:01.112Z     DISLIKE  2023-02-25T09:03:35.883Z  \n",
              "\n",
              "[147 rows x 9 columns]"
            ]
          },
          "execution_count": 17,
          "metadata": {},
          "output_type": "execute_result"
        }
      ],
      "source": [
        "swipes[swipes['is_unmatch']==1]"
      ]
    },
    {
      "cell_type": "code",
      "execution_count": 18,
      "metadata": {
        "colab": {
          "base_uri": "https://localhost:8080/"
        },
        "id": "aGlD-6GCfjKH",
        "outputId": "52b72973-1b6a-41a6-c8f2-8036e9aab3b4"
      },
      "outputs": [
        {
          "name": "stdout",
          "output_type": "stream",
          "text": [
            "<class 'pandas.core.frame.DataFrame'>\n",
            "Int64Index: 66622 entries, 212 to 66544\n",
            "Data columns (total 9 columns):\n",
            " #   Column                 Non-Null Count  Dtype              \n",
            "---  ------                 --------------  -----              \n",
            " 0   first_like_unlike_at   66622 non-null  datetime64[ns, UTC]\n",
            " 1   first_type             66622 non-null  object             \n",
            " 2   is_unmatch             66622 non-null  bool               \n",
            " 3   like_count             66622 non-null  int64              \n",
            " 4   p1                     66622 non-null  int64              \n",
            " 5   p2                     66622 non-null  int64              \n",
            " 6   second_like_unlike_at  4730 non-null   datetime64[ns, UTC]\n",
            " 7   second_type            4730 non-null   object             \n",
            " 8   unmatch_on             147 non-null    datetime64[ns, UTC]\n",
            "dtypes: bool(1), datetime64[ns, UTC](3), int64(3), object(2)\n",
            "memory usage: 4.6+ MB\n"
          ]
        }
      ],
      "source": [
        "swipes['unmatch_on'] = pd.to_datetime(swipes['unmatch_on'])\n",
        "swipes['first_like_unlike_at'] = pd.to_datetime(swipes['first_like_unlike_at'])\n",
        "swipes['second_like_unlike_at'] = pd.to_datetime(swipes['second_like_unlike_at'])\n",
        "swipes.info()"
      ]
    },
    {
      "cell_type": "markdown",
      "metadata": {
        "id": "q3XfCkBhhim_"
      },
      "source": [
        "![image.png](data:image/png;base64,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)"
      ]
    },
    {
      "cell_type": "code",
      "execution_count": 19,
      "metadata": {
        "colab": {
          "base_uri": "https://localhost:8080/",
          "height": 206
        },
        "id": "G6hXQ_XZhiOY",
        "outputId": "d0042979-f3f4-421f-b46b-d0bee4f90510"
      },
      "outputs": [
        {
          "data": {
            "text/html": [
              "<div>\n",
              "<style scoped>\n",
              "    .dataframe tbody tr th:only-of-type {\n",
              "        vertical-align: middle;\n",
              "    }\n",
              "\n",
              "    .dataframe tbody tr th {\n",
              "        vertical-align: top;\n",
              "    }\n",
              "\n",
              "    .dataframe thead th {\n",
              "        text-align: right;\n",
              "    }\n",
              "</style>\n",
              "<table border=\"1\" class=\"dataframe\">\n",
              "  <thead>\n",
              "    <tr style=\"text-align: right;\">\n",
              "      <th></th>\n",
              "      <th>first_like_unlike_at</th>\n",
              "      <th>first_type</th>\n",
              "      <th>is_unmatch</th>\n",
              "      <th>like_count</th>\n",
              "      <th>p1</th>\n",
              "      <th>p2</th>\n",
              "      <th>second_like_unlike_at</th>\n",
              "      <th>second_type</th>\n",
              "      <th>unmatch_on</th>\n",
              "    </tr>\n",
              "  </thead>\n",
              "  <tbody>\n",
              "    <tr>\n",
              "      <th>212</th>\n",
              "      <td>2023-02-08 05:13:13.430000+00:00</td>\n",
              "      <td>LIKE</td>\n",
              "      <td>True</td>\n",
              "      <td>2</td>\n",
              "      <td>0</td>\n",
              "      <td>35</td>\n",
              "      <td>2023-02-09 06:39:18.142000+00:00</td>\n",
              "      <td>LIKE</td>\n",
              "      <td>2023-02-11 11:31:48.390000+00:00</td>\n",
              "    </tr>\n",
              "    <tr>\n",
              "      <th>213</th>\n",
              "      <td>2023-02-08 05:13:24.752000+00:00</td>\n",
              "      <td>LIKE</td>\n",
              "      <td>False</td>\n",
              "      <td>1</td>\n",
              "      <td>0</td>\n",
              "      <td>36</td>\n",
              "      <td>NaT</td>\n",
              "      <td>NaN</td>\n",
              "      <td>NaT</td>\n",
              "    </tr>\n",
              "    <tr>\n",
              "      <th>214</th>\n",
              "      <td>2023-02-08 05:13:33.234000+00:00</td>\n",
              "      <td>LIKE</td>\n",
              "      <td>False</td>\n",
              "      <td>2</td>\n",
              "      <td>0</td>\n",
              "      <td>37</td>\n",
              "      <td>2023-02-09 06:40:14.134000+00:00</td>\n",
              "      <td>LIKE</td>\n",
              "      <td>NaT</td>\n",
              "    </tr>\n",
              "    <tr>\n",
              "      <th>215</th>\n",
              "      <td>2023-02-08 05:13:41.509000+00:00</td>\n",
              "      <td>DISLIKE</td>\n",
              "      <td>False</td>\n",
              "      <td>1</td>\n",
              "      <td>0</td>\n",
              "      <td>38</td>\n",
              "      <td>NaT</td>\n",
              "      <td>NaN</td>\n",
              "      <td>NaT</td>\n",
              "    </tr>\n",
              "    <tr>\n",
              "      <th>216</th>\n",
              "      <td>2023-02-08 05:13:46.215000+00:00</td>\n",
              "      <td>DISLIKE</td>\n",
              "      <td>False</td>\n",
              "      <td>1</td>\n",
              "      <td>0</td>\n",
              "      <td>39</td>\n",
              "      <td>NaT</td>\n",
              "      <td>NaN</td>\n",
              "      <td>NaT</td>\n",
              "    </tr>\n",
              "  </tbody>\n",
              "</table>\n",
              "</div>"
            ],
            "text/plain": [
              "                first_like_unlike_at first_type  is_unmatch  like_count  p1  \\\n",
              "212 2023-02-08 05:13:13.430000+00:00       LIKE        True           2   0   \n",
              "213 2023-02-08 05:13:24.752000+00:00       LIKE       False           1   0   \n",
              "214 2023-02-08 05:13:33.234000+00:00       LIKE       False           2   0   \n",
              "215 2023-02-08 05:13:41.509000+00:00    DISLIKE       False           1   0   \n",
              "216 2023-02-08 05:13:46.215000+00:00    DISLIKE       False           1   0   \n",
              "\n",
              "     p2            second_like_unlike_at second_type  \\\n",
              "212  35 2023-02-09 06:39:18.142000+00:00        LIKE   \n",
              "213  36                              NaT         NaN   \n",
              "214  37 2023-02-09 06:40:14.134000+00:00        LIKE   \n",
              "215  38                              NaT         NaN   \n",
              "216  39                              NaT         NaN   \n",
              "\n",
              "                          unmatch_on  \n",
              "212 2023-02-11 11:31:48.390000+00:00  \n",
              "213                              NaT  \n",
              "214                              NaT  \n",
              "215                              NaT  \n",
              "216                              NaT  "
            ]
          },
          "execution_count": 19,
          "metadata": {},
          "output_type": "execute_result"
        }
      ],
      "source": [
        "swipes.head()\n"
      ]
    },
    {
      "cell_type": "markdown",
      "metadata": {
        "id": "UmqCxmFLXZap"
      },
      "source": [
        "swipes.csv - Dataset of ~60k swipes by profiles.\n",
        "\n",
        "id - Primary ID of the swipe or match\n",
        "\n",
        "p1 - Primary ID of the first person performing the swipe. If A swipes B then p1 is A\n",
        "\n",
        "p2 - Primary ID of the person who was swiped by p1. If A swipes B then p2 is B\n",
        "\n",
        "first_type - LIKE or DISLIKE performed by p1\n",
        "\n",
        "is_unmatch - If the match was unmatched by any user.\n",
        "\n",
        "unmatch_on - Timestamp of unmatch\n",
        "\n",
        "like_count - 1 if single swipe is done. 2 if both have swiped each other\n",
        "\n",
        "second_type - LIKE or DISLIKE performed by p2 (Only present if like_count is 2) and 2nd user performed the action.\n",
        "\n",
        "p1_extend_at and p2_extend_at are irrelevant."
      ]
    },
    {
      "cell_type": "code",
      "execution_count": 20,
      "metadata": {
        "colab": {
          "base_uri": "https://localhost:8080/",
          "height": 423
        },
        "id": "vf8iSpbbHRpL",
        "outputId": "74b11c59-39b6-4dc8-e3ae-5e8b25d4b429"
      },
      "outputs": [
        {
          "data": {
            "text/html": [
              "<div>\n",
              "<style scoped>\n",
              "    .dataframe tbody tr th:only-of-type {\n",
              "        vertical-align: middle;\n",
              "    }\n",
              "\n",
              "    .dataframe tbody tr th {\n",
              "        vertical-align: top;\n",
              "    }\n",
              "\n",
              "    .dataframe thead th {\n",
              "        text-align: right;\n",
              "    }\n",
              "</style>\n",
              "<table border=\"1\" class=\"dataframe\">\n",
              "  <thead>\n",
              "    <tr style=\"text-align: right;\">\n",
              "      <th></th>\n",
              "      <th>first_like_unlike_at</th>\n",
              "      <th>first_type</th>\n",
              "      <th>is_unmatch</th>\n",
              "      <th>like_count</th>\n",
              "      <th>p1</th>\n",
              "      <th>p2</th>\n",
              "      <th>second_like_unlike_at</th>\n",
              "      <th>second_type</th>\n",
              "      <th>unmatch_on</th>\n",
              "    </tr>\n",
              "  </thead>\n",
              "  <tbody>\n",
              "    <tr>\n",
              "      <th>7376</th>\n",
              "      <td>2023-02-09 07:24:46.746000+00:00</td>\n",
              "      <td>LIKE</td>\n",
              "      <td>False</td>\n",
              "      <td>1</td>\n",
              "      <td>1</td>\n",
              "      <td>385</td>\n",
              "      <td>NaT</td>\n",
              "      <td>NaN</td>\n",
              "      <td>NaT</td>\n",
              "    </tr>\n",
              "    <tr>\n",
              "      <th>7377</th>\n",
              "      <td>2023-02-09 07:24:51.520000+00:00</td>\n",
              "      <td>LIKE</td>\n",
              "      <td>False</td>\n",
              "      <td>1</td>\n",
              "      <td>1</td>\n",
              "      <td>160</td>\n",
              "      <td>NaT</td>\n",
              "      <td>NaN</td>\n",
              "      <td>NaT</td>\n",
              "    </tr>\n",
              "    <tr>\n",
              "      <th>7379</th>\n",
              "      <td>2023-02-09 07:24:54.276000+00:00</td>\n",
              "      <td>LIKE</td>\n",
              "      <td>False</td>\n",
              "      <td>1</td>\n",
              "      <td>1</td>\n",
              "      <td>77</td>\n",
              "      <td>NaT</td>\n",
              "      <td>NaN</td>\n",
              "      <td>NaT</td>\n",
              "    </tr>\n",
              "    <tr>\n",
              "      <th>7384</th>\n",
              "      <td>2023-02-09 07:25:08.552000+00:00</td>\n",
              "      <td>LIKE</td>\n",
              "      <td>False</td>\n",
              "      <td>1</td>\n",
              "      <td>1</td>\n",
              "      <td>73</td>\n",
              "      <td>NaT</td>\n",
              "      <td>NaN</td>\n",
              "      <td>NaT</td>\n",
              "    </tr>\n",
              "    <tr>\n",
              "      <th>7385</th>\n",
              "      <td>2023-02-09 07:25:10.423000+00:00</td>\n",
              "      <td>LIKE</td>\n",
              "      <td>False</td>\n",
              "      <td>1</td>\n",
              "      <td>1</td>\n",
              "      <td>321</td>\n",
              "      <td>NaT</td>\n",
              "      <td>NaN</td>\n",
              "      <td>NaT</td>\n",
              "    </tr>\n",
              "    <tr>\n",
              "      <th>...</th>\n",
              "      <td>...</td>\n",
              "      <td>...</td>\n",
              "      <td>...</td>\n",
              "      <td>...</td>\n",
              "      <td>...</td>\n",
              "      <td>...</td>\n",
              "      <td>...</td>\n",
              "      <td>...</td>\n",
              "      <td>...</td>\n",
              "    </tr>\n",
              "    <tr>\n",
              "      <th>64510</th>\n",
              "      <td>2023-03-01 12:13:03.699000+00:00</td>\n",
              "      <td>DISLIKE</td>\n",
              "      <td>False</td>\n",
              "      <td>1</td>\n",
              "      <td>1</td>\n",
              "      <td>1337</td>\n",
              "      <td>NaT</td>\n",
              "      <td>NaN</td>\n",
              "      <td>NaT</td>\n",
              "    </tr>\n",
              "    <tr>\n",
              "      <th>64511</th>\n",
              "      <td>2023-03-01 12:13:06.092000+00:00</td>\n",
              "      <td>LIKE</td>\n",
              "      <td>False</td>\n",
              "      <td>1</td>\n",
              "      <td>1</td>\n",
              "      <td>523</td>\n",
              "      <td>NaT</td>\n",
              "      <td>NaN</td>\n",
              "      <td>NaT</td>\n",
              "    </tr>\n",
              "    <tr>\n",
              "      <th>64512</th>\n",
              "      <td>2023-03-01 12:13:08.077000+00:00</td>\n",
              "      <td>LIKE</td>\n",
              "      <td>False</td>\n",
              "      <td>1</td>\n",
              "      <td>1</td>\n",
              "      <td>924</td>\n",
              "      <td>NaT</td>\n",
              "      <td>NaN</td>\n",
              "      <td>NaT</td>\n",
              "    </tr>\n",
              "    <tr>\n",
              "      <th>64513</th>\n",
              "      <td>2023-03-01 12:13:14.760000+00:00</td>\n",
              "      <td>LIKE</td>\n",
              "      <td>False</td>\n",
              "      <td>1</td>\n",
              "      <td>1</td>\n",
              "      <td>1290</td>\n",
              "      <td>NaT</td>\n",
              "      <td>NaN</td>\n",
              "      <td>NaT</td>\n",
              "    </tr>\n",
              "    <tr>\n",
              "      <th>64514</th>\n",
              "      <td>2023-03-01 12:13:16.830000+00:00</td>\n",
              "      <td>LIKE</td>\n",
              "      <td>False</td>\n",
              "      <td>1</td>\n",
              "      <td>1</td>\n",
              "      <td>1079</td>\n",
              "      <td>NaT</td>\n",
              "      <td>NaN</td>\n",
              "      <td>NaT</td>\n",
              "    </tr>\n",
              "  </tbody>\n",
              "</table>\n",
              "<p>69 rows × 9 columns</p>\n",
              "</div>"
            ],
            "text/plain": [
              "                  first_like_unlike_at first_type  is_unmatch  like_count  p1  \\\n",
              "7376  2023-02-09 07:24:46.746000+00:00       LIKE       False           1   1   \n",
              "7377  2023-02-09 07:24:51.520000+00:00       LIKE       False           1   1   \n",
              "7379  2023-02-09 07:24:54.276000+00:00       LIKE       False           1   1   \n",
              "7384  2023-02-09 07:25:08.552000+00:00       LIKE       False           1   1   \n",
              "7385  2023-02-09 07:25:10.423000+00:00       LIKE       False           1   1   \n",
              "...                                ...        ...         ...         ...  ..   \n",
              "64510 2023-03-01 12:13:03.699000+00:00    DISLIKE       False           1   1   \n",
              "64511 2023-03-01 12:13:06.092000+00:00       LIKE       False           1   1   \n",
              "64512 2023-03-01 12:13:08.077000+00:00       LIKE       False           1   1   \n",
              "64513 2023-03-01 12:13:14.760000+00:00       LIKE       False           1   1   \n",
              "64514 2023-03-01 12:13:16.830000+00:00       LIKE       False           1   1   \n",
              "\n",
              "         p2 second_like_unlike_at second_type unmatch_on  \n",
              "7376    385                   NaT         NaN        NaT  \n",
              "7377    160                   NaT         NaN        NaT  \n",
              "7379     77                   NaT         NaN        NaT  \n",
              "7384     73                   NaT         NaN        NaT  \n",
              "7385    321                   NaT         NaN        NaT  \n",
              "...     ...                   ...         ...        ...  \n",
              "64510  1337                   NaT         NaN        NaT  \n",
              "64511   523                   NaT         NaN        NaT  \n",
              "64512   924                   NaT         NaN        NaT  \n",
              "64513  1290                   NaT         NaN        NaT  \n",
              "64514  1079                   NaT         NaN        NaT  \n",
              "\n",
              "[69 rows x 9 columns]"
            ]
          },
          "execution_count": 20,
          "metadata": {},
          "output_type": "execute_result"
        }
      ],
      "source": [
        "swipes[swipes['p1']==1]"
      ]
    },
    {
      "cell_type": "code",
      "execution_count": 53,
      "metadata": {
        "id": "Rdo2wC4C3cf4"
      },
      "outputs": [],
      "source": [
        "profiles1=[]\n",
        "for i in range(1405):\n",
        "  temp=swipes[swipes['p1']==i]\n",
        "  # temp2={i:temp}\n",
        "  profiles1.append(temp)"
      ]
    },
    {
      "cell_type": "code",
      "execution_count": 60,
      "metadata": {
        "colab": {
          "base_uri": "https://localhost:8080/"
        },
        "id": "5wXbDLaPHf4_",
        "outputId": "1e72c4be-8eb7-4401-e7eb-868832503946"
      },
      "outputs": [
        {
          "name": "stdout",
          "output_type": "stream",
          "text": [
            "                  first_like_unlike_at first_type  is_unmatch  like_count  p1  \\\n",
            "212   2023-02-08 05:13:13.430000+00:00       LIKE        True           2   0   \n",
            "213   2023-02-08 05:13:24.752000+00:00       LIKE       False           1   0   \n",
            "214   2023-02-08 05:13:33.234000+00:00       LIKE       False           2   0   \n",
            "215   2023-02-08 05:13:41.509000+00:00    DISLIKE       False           1   0   \n",
            "216   2023-02-08 05:13:46.215000+00:00    DISLIKE       False           1   0   \n",
            "...                                ...        ...         ...         ...  ..   \n",
            "62883 2023-02-27 20:40:44.524000+00:00       LIKE       False           1   0   \n",
            "62884 2023-02-27 20:40:48.367000+00:00       LIKE       False           1   0   \n",
            "62885 2023-02-27 20:40:55.653000+00:00    DISLIKE       False           1   0   \n",
            "63877 2023-02-28 19:51:48.800000+00:00    DISLIKE       False           1   0   \n",
            "63878 2023-02-28 19:52:01.085000+00:00    DISLIKE       False           1   0   \n",
            "\n",
            "         p2            second_like_unlike_at second_type  \\\n",
            "212      35 2023-02-09 06:39:18.142000+00:00        LIKE   \n",
            "213      36                              NaT         NaN   \n",
            "214      37 2023-02-09 06:40:14.134000+00:00        LIKE   \n",
            "215      38                              NaT         NaN   \n",
            "216      39                              NaT         NaN   \n",
            "...     ...                              ...         ...   \n",
            "62883  1337                              NaT         NaN   \n",
            "62884  1357                              NaT         NaN   \n",
            "62885  1358                              NaT         NaN   \n",
            "63877  1375                              NaT         NaN   \n",
            "63878  1371                              NaT         NaN   \n",
            "\n",
            "                            unmatch_on  \n",
            "212   2023-02-11 11:31:48.390000+00:00  \n",
            "213                                NaT  \n",
            "214                                NaT  \n",
            "215                                NaT  \n",
            "216                                NaT  \n",
            "...                                ...  \n",
            "62883                              NaT  \n",
            "62884                              NaT  \n",
            "62885                              NaT  \n",
            "63877                              NaT  \n",
            "63878                              NaT  \n",
            "\n",
            "[230 rows x 9 columns]\n"
          ]
        }
      ],
      "source": [
        "print(profiles1[])"
      ]
    },
    {
      "cell_type": "code",
      "execution_count": 55,
      "metadata": {},
      "outputs": [
        {
          "name": "stdout",
          "output_type": "stream",
          "text": [
            "                first_like_unlike_at first_type  is_unmatch  like_count   p1  \\\n",
            "0   2023-02-07 06:12:59.013000+00:00    DISLIKE       False           2    2   \n",
            "3   2023-02-07 07:10:01.566000+00:00    DISLIKE       False           1    4   \n",
            "11  2023-02-07 09:11:01.334000+00:00       LIKE       False           2   11   \n",
            "32  2023-02-07 10:36:50.184000+00:00    DISLIKE       False           1   16   \n",
            "41  2023-02-07 12:50:15.249000+00:00    DISLIKE       False           1   21   \n",
            "62  2023-02-07 13:08:25.798000+00:00       LIKE       False           2   22   \n",
            "67  2023-02-07 13:28:14.048000+00:00       LIKE       False           2   23   \n",
            "102 2023-02-07 16:26:24.052000+00:00    DISLIKE       False           2   30   \n",
            "423 2023-02-08 14:20:58.551000+00:00       LIKE       False           2  110   \n",
            "444 2023-02-08 14:22:16.393000+00:00    DISLIKE       False           1  112   \n",
            "449 2023-02-08 14:22:55.049000+00:00    DISLIKE       False           1  113   \n",
            "\n",
            "     p2            second_like_unlike_at second_type unmatch_on  \n",
            "0     0 2023-02-07 11:15:48.194000+00:00     DISLIKE        NaT  \n",
            "3     0                              NaT         NaN        NaT  \n",
            "11    0 2023-02-07 11:16:27.277000+00:00     DISLIKE        NaT  \n",
            "32    0                              NaT         NaN        NaT  \n",
            "41    0                              NaT         NaN        NaT  \n",
            "62    0 2023-02-07 13:35:50.442000+00:00        LIKE        NaT  \n",
            "67    0 2023-02-07 13:36:00.090000+00:00     DISLIKE        NaT  \n",
            "102   0 2023-02-08 05:13:03.752000+00:00        LIKE        NaT  \n",
            "423   0 2023-02-08 15:13:27.349000+00:00        LIKE        NaT  \n",
            "444   0                              NaT         NaN        NaT  \n",
            "449   0                              NaT         NaN        NaT  \n",
            "1405\n"
          ]
        }
      ],
      "source": [
        "profiles2=[]\n",
        "for i in range(1405):\n",
        "  temp=swipes[swipes['p2']==i]\n",
        "  # temp2={i:temp}\n",
        "  profiles2.append(temp)\n",
        "print(profiles2[0])\n",
        "print(len(profiles2))"
      ]
    },
    {
      "cell_type": "code",
      "execution_count": 68,
      "metadata": {},
      "outputs": [
        {
          "data": {
            "text/plain": [
              "[\"Jawaharlal Nehru University\"]                    491\n",
              "[]                                                 226\n",
              "[\"JNU\"]                                            118\n",
              "[\"Jnu\"]                                             76\n",
              "[\"Miranda House\"]                                   48\n",
              "                                                  ... \n",
              "[\"IIT bhu\"]                                          1\n",
              "[\"Indian Institute of Technology BHU Varanasi\"]      1\n",
              "[\"Jawarlal Nehru University\"]                        1\n",
              "[\"Iit delhi\"]                                        1\n",
              "[\"Dps\"]                                              1\n",
              "Name: college, Length: 245, dtype: int64"
            ]
          },
          "execution_count": 68,
          "metadata": {},
          "output_type": "execute_result"
        }
      ],
      "source": [
        "users=pd.read_csv('./users.csv')\n",
        "users['college'].value_counts()\n"
      ]
    }
  ],
  "metadata": {
    "colab": {
      "provenance": []
    },
    "kernelspec": {
      "display_name": "Python 3",
      "name": "python3"
    },
    "language_info": {
      "codemirror_mode": {
        "name": "ipython",
        "version": 3
      },
      "file_extension": ".py",
      "mimetype": "text/x-python",
      "name": "python",
      "nbconvert_exporter": "python",
      "pygments_lexer": "ipython3",
      "version": "3.10.2"
    }
  },
  "nbformat": 4,
  "nbformat_minor": 0
}
