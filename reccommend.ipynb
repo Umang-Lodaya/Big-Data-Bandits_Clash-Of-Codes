{
  "cells": [
    {
      "cell_type": "code",
      "execution_count": 75,
      "metadata": {
        "id": "cr-D_zahQFKy"
      },
      "outputs": [],
      "source": [
        "import pandas as pd\n",
        "import numpy as np\n",
        "import re"
      ]
    },
    {
      "cell_type": "code",
      "execution_count": 76,
      "metadata": {
        "id": "OUaF4OKQSASY"
      },
      "outputs": [],
      "source": [
        "url1=\"https://raw.githubusercontent.com/kushalpoddar/idyll-dummy-dataset/main/users.csv\"\n",
        "url2=\"https://raw.githubusercontent.com/kushalpoddar/idyll-dummy-dataset/main/swipes.csv\""
      ]
    },
    {
      "cell_type": "code",
      "execution_count": 77,
      "metadata": {
        "id": "ehqEkTVGTLVc"
      },
      "outputs": [],
      "source": [
        "users=pd.read_csv('./users.csv')\n",
        "# users.set_index(\"_id\",inplace=True)"
      ]
    },
    {
      "cell_type": "code",
      "execution_count": null,
      "metadata": {},
      "outputs": [],
      "source": []
    },
    {
      "cell_type": "code",
      "execution_count": 78,
      "metadata": {
        "colab": {
          "base_uri": "https://localhost:8080/",
          "height": 490
        },
        "id": "vrR0UeToSg9v",
        "outputId": "7acfbc9a-de5e-4f03-cada-fd90c03b9ebc"
      },
      "outputs": [
        {
          "data": {
            "text/html": [
              "<div>\n",
              "<style scoped>\n",
              "    .dataframe tbody tr th:only-of-type {\n",
              "        vertical-align: middle;\n",
              "    }\n",
              "\n",
              "    .dataframe tbody tr th {\n",
              "        vertical-align: top;\n",
              "    }\n",
              "\n",
              "    .dataframe thead th {\n",
              "        text-align: right;\n",
              "    }\n",
              "</style>\n",
              "<table border=\"1\" class=\"dataframe\">\n",
              "  <thead>\n",
              "    <tr style=\"text-align: right;\">\n",
              "      <th></th>\n",
              "      <th>_id</th>\n",
              "      <th>bio</th>\n",
              "      <th>college</th>\n",
              "      <th>country</th>\n",
              "      <th>createdAt</th>\n",
              "      <th>dob</th>\n",
              "      <th>email</th>\n",
              "      <th>face_detection_probabilities</th>\n",
              "      <th>gender</th>\n",
              "      <th>height</th>\n",
              "      <th>...</th>\n",
              "      <th>is_verified</th>\n",
              "      <th>mobile</th>\n",
              "      <th>name</th>\n",
              "      <th>status</th>\n",
              "      <th>type</th>\n",
              "      <th>updatedAt</th>\n",
              "      <th>verified_at</th>\n",
              "      <th>what_to_find</th>\n",
              "      <th>who_to_date</th>\n",
              "      <th>is_subscribed</th>\n",
              "    </tr>\n",
              "  </thead>\n",
              "  <tbody>\n",
              "    <tr>\n",
              "      <th>0</th>\n",
              "      <td>0</td>\n",
              "      <td>I am very honest and caring person</td>\n",
              "      <td>[\"Jawaharlal Nehru University\"]</td>\n",
              "      <td>IN</td>\n",
              "      <td>2023-02-07T05:23:18.004Z</td>\n",
              "      <td>2002-07-16T00:00:00.000Z</td>\n",
              "      <td>9000000000@get.idyll</td>\n",
              "      <td>[90.7028079032898]</td>\n",
              "      <td>M</td>\n",
              "      <td>175.0</td>\n",
              "      <td>...</td>\n",
              "      <td>True</td>\n",
              "      <td>9000000000</td>\n",
              "      <td>Prakhar Sharma</td>\n",
              "      <td>True</td>\n",
              "      <td>U</td>\n",
              "      <td>2023-02-22T11:57:08.616Z</td>\n",
              "      <td>2023-02-22T11:57:04.347Z</td>\n",
              "      <td>C</td>\n",
              "      <td>F</td>\n",
              "      <td>True</td>\n",
              "    </tr>\n",
              "    <tr>\n",
              "      <th>1</th>\n",
              "      <td>1</td>\n",
              "      <td>Let's go on a date.</td>\n",
              "      <td>[\"Heritage \"]</td>\n",
              "      <td>IN</td>\n",
              "      <td>2023-02-07T05:44:15.450Z</td>\n",
              "      <td>1999-02-26T00:00:00.000Z</td>\n",
              "      <td>9100000000@get.idyll</td>\n",
              "      <td>[]</td>\n",
              "      <td>M</td>\n",
              "      <td>177.0</td>\n",
              "      <td>...</td>\n",
              "      <td>True</td>\n",
              "      <td>9100000000</td>\n",
              "      <td>Amit</td>\n",
              "      <td>True</td>\n",
              "      <td>U</td>\n",
              "      <td>2023-02-21T18:07:44.286Z</td>\n",
              "      <td>2023-02-21T18:01:34.165Z</td>\n",
              "      <td>C</td>\n",
              "      <td>F</td>\n",
              "      <td>True</td>\n",
              "    </tr>\n",
              "    <tr>\n",
              "      <th>2</th>\n",
              "      <td>2</td>\n",
              "      <td>Loving life</td>\n",
              "      <td>[\"Jawaharlal Nehru University\"]</td>\n",
              "      <td>IN</td>\n",
              "      <td>2023-02-07T05:57:29.233Z</td>\n",
              "      <td>2001-01-08T00:00:00.000Z</td>\n",
              "      <td>9200000000@get.idyll</td>\n",
              "      <td>[88.67224454879761]</td>\n",
              "      <td>F</td>\n",
              "      <td>175.0</td>\n",
              "      <td>...</td>\n",
              "      <td>True</td>\n",
              "      <td>9200000000</td>\n",
              "      <td>Ritz</td>\n",
              "      <td>True</td>\n",
              "      <td>U</td>\n",
              "      <td>2023-02-14T10:33:13.373Z</td>\n",
              "      <td>NaN</td>\n",
              "      <td>R</td>\n",
              "      <td>M</td>\n",
              "      <td>True</td>\n",
              "    </tr>\n",
              "    <tr>\n",
              "      <th>3</th>\n",
              "      <td>3</td>\n",
              "      <td>Jai Maharashtra\\n🥲Bharat Mata ki Jay.....\\nInq...</td>\n",
              "      <td>[\"Jawaharlal Nehru University\"]</td>\n",
              "      <td>IN</td>\n",
              "      <td>2023-02-07T06:04:39.836Z</td>\n",
              "      <td>2000-08-20T00:00:00.000Z</td>\n",
              "      <td>9300000000@get.idyll</td>\n",
              "      <td>[90.63367247581482,70.43942511081696,96.189951...</td>\n",
              "      <td>M</td>\n",
              "      <td>177.0</td>\n",
              "      <td>...</td>\n",
              "      <td>True</td>\n",
              "      <td>9300000000</td>\n",
              "      <td>Devesh Shukla</td>\n",
              "      <td>True</td>\n",
              "      <td>U</td>\n",
              "      <td>2023-02-26T20:28:11.956Z</td>\n",
              "      <td>NaN</td>\n",
              "      <td>R</td>\n",
              "      <td>F</td>\n",
              "      <td>True</td>\n",
              "    </tr>\n",
              "    <tr>\n",
              "      <th>4</th>\n",
              "      <td>4</td>\n",
              "      <td>🙄</td>\n",
              "      <td>[\"Jawaharlal Nehru University\"]</td>\n",
              "      <td>IN</td>\n",
              "      <td>2023-02-07T07:05:14.605Z</td>\n",
              "      <td>2000-07-31T00:00:00.000Z</td>\n",
              "      <td>9400000000@get.idyll</td>\n",
              "      <td>NaN</td>\n",
              "      <td>M</td>\n",
              "      <td>178.0</td>\n",
              "      <td>...</td>\n",
              "      <td>False</td>\n",
              "      <td>9400000000</td>\n",
              "      <td>Aditya bhadoriya</td>\n",
              "      <td>True</td>\n",
              "      <td>U</td>\n",
              "      <td>2023-02-07T07:09:17.627Z</td>\n",
              "      <td>NaN</td>\n",
              "      <td>NS</td>\n",
              "      <td>A</td>\n",
              "      <td>NaN</td>\n",
              "    </tr>\n",
              "  </tbody>\n",
              "</table>\n",
              "<p>5 rows × 24 columns</p>\n",
              "</div>"
            ],
            "text/plain": [
              "   _id                                                bio  \\\n",
              "0    0                 I am very honest and caring person   \n",
              "1    1                                Let's go on a date.   \n",
              "2    2                                        Loving life   \n",
              "3    3  Jai Maharashtra\\n🥲Bharat Mata ki Jay.....\\nInq...   \n",
              "4    4                                                  🙄   \n",
              "\n",
              "                           college country                 createdAt  \\\n",
              "0  [\"Jawaharlal Nehru University\"]      IN  2023-02-07T05:23:18.004Z   \n",
              "1                    [\"Heritage \"]      IN  2023-02-07T05:44:15.450Z   \n",
              "2  [\"Jawaharlal Nehru University\"]      IN  2023-02-07T05:57:29.233Z   \n",
              "3  [\"Jawaharlal Nehru University\"]      IN  2023-02-07T06:04:39.836Z   \n",
              "4  [\"Jawaharlal Nehru University\"]      IN  2023-02-07T07:05:14.605Z   \n",
              "\n",
              "                        dob                 email  \\\n",
              "0  2002-07-16T00:00:00.000Z  9000000000@get.idyll   \n",
              "1  1999-02-26T00:00:00.000Z  9100000000@get.idyll   \n",
              "2  2001-01-08T00:00:00.000Z  9200000000@get.idyll   \n",
              "3  2000-08-20T00:00:00.000Z  9300000000@get.idyll   \n",
              "4  2000-07-31T00:00:00.000Z  9400000000@get.idyll   \n",
              "\n",
              "                        face_detection_probabilities gender  height  ...  \\\n",
              "0                                 [90.7028079032898]      M   175.0  ...   \n",
              "1                                                 []      M   177.0  ...   \n",
              "2                                [88.67224454879761]      F   175.0  ...   \n",
              "3  [90.63367247581482,70.43942511081696,96.189951...      M   177.0  ...   \n",
              "4                                                NaN      M   178.0  ...   \n",
              "\n",
              "   is_verified      mobile               name status type  \\\n",
              "0         True  9000000000     Prakhar Sharma   True    U   \n",
              "1         True  9100000000               Amit   True    U   \n",
              "2         True  9200000000               Ritz   True    U   \n",
              "3         True  9300000000     Devesh Shukla    True    U   \n",
              "4        False  9400000000  Aditya bhadoriya    True    U   \n",
              "\n",
              "                  updatedAt               verified_at  what_to_find  \\\n",
              "0  2023-02-22T11:57:08.616Z  2023-02-22T11:57:04.347Z             C   \n",
              "1  2023-02-21T18:07:44.286Z  2023-02-21T18:01:34.165Z             C   \n",
              "2  2023-02-14T10:33:13.373Z                       NaN             R   \n",
              "3  2023-02-26T20:28:11.956Z                       NaN             R   \n",
              "4  2023-02-07T07:09:17.627Z                       NaN            NS   \n",
              "\n",
              "  who_to_date is_subscribed  \n",
              "0           F          True  \n",
              "1           F          True  \n",
              "2           M          True  \n",
              "3           F          True  \n",
              "4           A           NaN  \n",
              "\n",
              "[5 rows x 24 columns]"
            ]
          },
          "execution_count": 78,
          "metadata": {},
          "output_type": "execute_result"
        }
      ],
      "source": [
        "users.head()"
      ]
    },
    {
      "cell_type": "code",
      "execution_count": 79,
      "metadata": {
        "colab": {
          "base_uri": "https://localhost:8080/"
        },
        "id": "LqAu5R6oUSOx",
        "outputId": "f67ccd38-36b7-4714-b74a-29e272b0436a"
      },
      "outputs": [
        {
          "name": "stdout",
          "output_type": "stream",
          "text": [
            "<class 'pandas.core.frame.DataFrame'>\n",
            "RangeIndex: 1405 entries, 0 to 1404\n",
            "Data columns (total 24 columns):\n",
            " #   Column                        Non-Null Count  Dtype  \n",
            "---  ------                        --------------  -----  \n",
            " 0   _id                           1405 non-null   int64  \n",
            " 1   bio                           1076 non-null   object \n",
            " 2   college                       1403 non-null   object \n",
            " 3   country                       1405 non-null   object \n",
            " 4   createdAt                     1405 non-null   object \n",
            " 5   dob                           1192 non-null   object \n",
            " 6   email                         1405 non-null   object \n",
            " 7   face_detection_probabilities  765 non-null    object \n",
            " 8   gender                        1258 non-null   object \n",
            " 9   height                        646 non-null    float64\n",
            " 10  insta_username                0 non-null      float64\n",
            " 11  interests                     1403 non-null   object \n",
            " 12  is_habit_drink                883 non-null    object \n",
            " 13  is_habit_smoke                880 non-null    object \n",
            " 14  is_verified                   1404 non-null   object \n",
            " 15  mobile                        1405 non-null   int64  \n",
            " 16  name                          1261 non-null   object \n",
            " 17  status                        1405 non-null   bool   \n",
            " 18  type                          1405 non-null   object \n",
            " 19  updatedAt                     1405 non-null   object \n",
            " 20  verified_at                   178 non-null    object \n",
            " 21  what_to_find                  884 non-null    object \n",
            " 22  who_to_date                   1190 non-null   object \n",
            " 23  is_subscribed                 557 non-null    object \n",
            "dtypes: bool(1), float64(2), int64(2), object(19)\n",
            "memory usage: 254.0+ KB\n"
          ]
        }
      ],
      "source": [
        "users.info()"
      ]
    },
    {
      "cell_type": "markdown",
      "metadata": {
        "id": "JItG6A0eT-KO"
      },
      "source": [
        "# Cleaning"
      ]
    },
    {
      "cell_type": "code",
      "execution_count": 80,
      "metadata": {
        "id": "6-hnut6tT_zs"
      },
      "outputs": [],
      "source": [
        "# users_relevant = ['createdAt', 'gender', 'interests' , 'is_verified','status','updatedAt','who_to_date','is_subscribed']\n",
        "users_relevant = ['bio','college','dob','face_detection_probabilities','createdAt', 'gender', \n",
        "                  'interests' ,'status','updatedAt','who_to_date','is_subscribed','is_habit_drink',\n",
        "                  'is_habit_smoke','is_verified','name']"
      ]
    },
    {
      "cell_type": "code",
      "execution_count": 81,
      "metadata": {
        "id": "EJyi21hCU-Xr"
      },
      "outputs": [],
      "source": [
        "users_df = users[users_relevant]"
      ]
    },
    {
      "cell_type": "code",
      "execution_count": 82,
      "metadata": {
        "colab": {
          "base_uri": "https://localhost:8080/",
          "height": 904
        },
        "id": "bm2UHAeSU-0i",
        "outputId": "9f24c683-d782-4b63-e806-3b6dffdba941"
      },
      "outputs": [
        {
          "data": {
            "text/html": [
              "<div>\n",
              "<style scoped>\n",
              "    .dataframe tbody tr th:only-of-type {\n",
              "        vertical-align: middle;\n",
              "    }\n",
              "\n",
              "    .dataframe tbody tr th {\n",
              "        vertical-align: top;\n",
              "    }\n",
              "\n",
              "    .dataframe thead th {\n",
              "        text-align: right;\n",
              "    }\n",
              "</style>\n",
              "<table border=\"1\" class=\"dataframe\">\n",
              "  <thead>\n",
              "    <tr style=\"text-align: right;\">\n",
              "      <th></th>\n",
              "      <th>bio</th>\n",
              "      <th>college</th>\n",
              "      <th>dob</th>\n",
              "      <th>face_detection_probabilities</th>\n",
              "      <th>createdAt</th>\n",
              "      <th>gender</th>\n",
              "      <th>interests</th>\n",
              "      <th>status</th>\n",
              "      <th>updatedAt</th>\n",
              "      <th>who_to_date</th>\n",
              "      <th>is_subscribed</th>\n",
              "      <th>is_habit_drink</th>\n",
              "      <th>is_habit_smoke</th>\n",
              "      <th>is_verified</th>\n",
              "      <th>name</th>\n",
              "    </tr>\n",
              "  </thead>\n",
              "  <tbody>\n",
              "    <tr>\n",
              "      <th>0</th>\n",
              "      <td>I am very honest and caring person</td>\n",
              "      <td>[\"Jawaharlal Nehru University\"]</td>\n",
              "      <td>2002-07-16T00:00:00.000Z</td>\n",
              "      <td>[90.7028079032898]</td>\n",
              "      <td>2023-02-07T05:23:18.004Z</td>\n",
              "      <td>M</td>\n",
              "      <td>[\"Art &amp; Craft\",\"Bollywood\",\"Comedy\",\"Design\",\"...</td>\n",
              "      <td>True</td>\n",
              "      <td>2023-02-22T11:57:08.616Z</td>\n",
              "      <td>F</td>\n",
              "      <td>True</td>\n",
              "      <td>N</td>\n",
              "      <td>N</td>\n",
              "      <td>True</td>\n",
              "      <td>Prakhar Sharma</td>\n",
              "    </tr>\n",
              "    <tr>\n",
              "      <th>1</th>\n",
              "      <td>Let's go on a date.</td>\n",
              "      <td>[\"Heritage \"]</td>\n",
              "      <td>1999-02-26T00:00:00.000Z</td>\n",
              "      <td>[]</td>\n",
              "      <td>2023-02-07T05:44:15.450Z</td>\n",
              "      <td>M</td>\n",
              "      <td>[\"Singing\",\"Writing\",\"Dancing\",\"Mountains\",\"Bi...</td>\n",
              "      <td>True</td>\n",
              "      <td>2023-02-21T18:07:44.286Z</td>\n",
              "      <td>F</td>\n",
              "      <td>True</td>\n",
              "      <td>N</td>\n",
              "      <td>N</td>\n",
              "      <td>True</td>\n",
              "      <td>Amit</td>\n",
              "    </tr>\n",
              "    <tr>\n",
              "      <th>2</th>\n",
              "      <td>Loving life</td>\n",
              "      <td>[\"Jawaharlal Nehru University\"]</td>\n",
              "      <td>2001-01-08T00:00:00.000Z</td>\n",
              "      <td>[88.67224454879761]</td>\n",
              "      <td>2023-02-07T05:57:29.233Z</td>\n",
              "      <td>F</td>\n",
              "      <td>[\"Badminton\",\"Design\",\"Writing\",\"Open-Minded\",...</td>\n",
              "      <td>True</td>\n",
              "      <td>2023-02-14T10:33:13.373Z</td>\n",
              "      <td>M</td>\n",
              "      <td>True</td>\n",
              "      <td>N</td>\n",
              "      <td>N</td>\n",
              "      <td>True</td>\n",
              "      <td>Ritz</td>\n",
              "    </tr>\n",
              "    <tr>\n",
              "      <th>3</th>\n",
              "      <td>Jai Maharashtra\\n🥲Bharat Mata ki Jay.....\\nInq...</td>\n",
              "      <td>[\"Jawaharlal Nehru University\"]</td>\n",
              "      <td>2000-08-20T00:00:00.000Z</td>\n",
              "      <td>[90.63367247581482,70.43942511081696,96.189951...</td>\n",
              "      <td>2023-02-07T06:04:39.836Z</td>\n",
              "      <td>M</td>\n",
              "      <td>[\"Singing\",\"Cricket\",\"Concerts\",\"Vegetarian\",\"...</td>\n",
              "      <td>True</td>\n",
              "      <td>2023-02-26T20:28:11.956Z</td>\n",
              "      <td>F</td>\n",
              "      <td>True</td>\n",
              "      <td>N</td>\n",
              "      <td>N</td>\n",
              "      <td>True</td>\n",
              "      <td>Devesh Shukla</td>\n",
              "    </tr>\n",
              "    <tr>\n",
              "      <th>4</th>\n",
              "      <td>🙄</td>\n",
              "      <td>[\"Jawaharlal Nehru University\"]</td>\n",
              "      <td>2000-07-31T00:00:00.000Z</td>\n",
              "      <td>NaN</td>\n",
              "      <td>2023-02-07T07:05:14.605Z</td>\n",
              "      <td>M</td>\n",
              "      <td>[\"Football\",\"Gym\",\"Biryani\",\"Sci-fi\",\"Cricket\"]</td>\n",
              "      <td>True</td>\n",
              "      <td>2023-02-07T07:09:17.627Z</td>\n",
              "      <td>A</td>\n",
              "      <td>NaN</td>\n",
              "      <td>N</td>\n",
              "      <td>N</td>\n",
              "      <td>False</td>\n",
              "      <td>Aditya bhadoriya</td>\n",
              "    </tr>\n",
              "    <tr>\n",
              "      <th>...</th>\n",
              "      <td>...</td>\n",
              "      <td>...</td>\n",
              "      <td>...</td>\n",
              "      <td>...</td>\n",
              "      <td>...</td>\n",
              "      <td>...</td>\n",
              "      <td>...</td>\n",
              "      <td>...</td>\n",
              "      <td>...</td>\n",
              "      <td>...</td>\n",
              "      <td>...</td>\n",
              "      <td>...</td>\n",
              "      <td>...</td>\n",
              "      <td>...</td>\n",
              "      <td>...</td>\n",
              "    </tr>\n",
              "    <tr>\n",
              "      <th>1400</th>\n",
              "      <td>You deserve someone who makes you feel like th...</td>\n",
              "      <td>[\"Deshbandhu College\"]</td>\n",
              "      <td>1998-05-10T00:00:00.000Z</td>\n",
              "      <td>[61.251795291900635]</td>\n",
              "      <td>2023-03-03T09:53:01.297Z</td>\n",
              "      <td>M</td>\n",
              "      <td>[\"Documentaries\",\"Reels\",\"Dancing\"]</td>\n",
              "      <td>True</td>\n",
              "      <td>2023-03-03T09:58:15.338Z</td>\n",
              "      <td>F</td>\n",
              "      <td>NaN</td>\n",
              "      <td>NaN</td>\n",
              "      <td>NaN</td>\n",
              "      <td>False</td>\n",
              "      <td>Rohit</td>\n",
              "    </tr>\n",
              "    <tr>\n",
              "      <th>1401</th>\n",
              "      <td>Let's watch Optimus Prime kill The fallen toge...</td>\n",
              "      <td>[\"Indian Institute of Technology(IIT), Delhi\"]</td>\n",
              "      <td>2003-09-01T00:00:00.000Z</td>\n",
              "      <td>[99.27465915679932,93.95707845687866]</td>\n",
              "      <td>2023-03-03T12:43:15.149Z</td>\n",
              "      <td>M</td>\n",
              "      <td>[\"Rock\",\"Vegetarian\"]</td>\n",
              "      <td>True</td>\n",
              "      <td>2023-03-03T15:30:05.813Z</td>\n",
              "      <td>F</td>\n",
              "      <td>NaN</td>\n",
              "      <td>N</td>\n",
              "      <td>NaN</td>\n",
              "      <td>False</td>\n",
              "      <td>Ayush Shukla</td>\n",
              "    </tr>\n",
              "    <tr>\n",
              "      <th>1402</th>\n",
              "      <td>Looking forward to something</td>\n",
              "      <td>[\"Indian Institute of Technology(IIT), Delhi\"]</td>\n",
              "      <td>2004-09-17T00:00:00.000Z</td>\n",
              "      <td>[62.929182251294456,88.43805193901062]</td>\n",
              "      <td>2023-03-03T12:43:15.633Z</td>\n",
              "      <td>M</td>\n",
              "      <td>[\"Bollywood\",\"EDM\",\"Coffee\",\"Football\",\"Biryani\"]</td>\n",
              "      <td>True</td>\n",
              "      <td>2023-03-03T15:10:17.314Z</td>\n",
              "      <td>F</td>\n",
              "      <td>NaN</td>\n",
              "      <td>NaN</td>\n",
              "      <td>NaN</td>\n",
              "      <td>False</td>\n",
              "      <td>Humayun Mughal</td>\n",
              "    </tr>\n",
              "    <tr>\n",
              "      <th>1403</th>\n",
              "      <td>Hi</td>\n",
              "      <td>[\"Jawaharlal Nehru University\"]</td>\n",
              "      <td>1995-07-27T00:00:00.000Z</td>\n",
              "      <td>[]</td>\n",
              "      <td>2023-03-03T16:12:31.677Z</td>\n",
              "      <td>M</td>\n",
              "      <td>[]</td>\n",
              "      <td>True</td>\n",
              "      <td>2023-03-03T16:22:51.150Z</td>\n",
              "      <td>F</td>\n",
              "      <td>NaN</td>\n",
              "      <td>NaN</td>\n",
              "      <td>NaN</td>\n",
              "      <td>False</td>\n",
              "      <td>Swatantra</td>\n",
              "    </tr>\n",
              "    <tr>\n",
              "      <th>1404</th>\n",
              "      <td>Multilingual, weekend life, chilla</td>\n",
              "      <td>[\"Jawaharlal Nehru University\"]</td>\n",
              "      <td>1999-11-01T00:00:00.000Z</td>\n",
              "      <td>[98.56662154197693,98.47255349159241,92.074596...</td>\n",
              "      <td>2023-03-03T17:52:52.405Z</td>\n",
              "      <td>M</td>\n",
              "      <td>[\"Running\",\"Swimming\",\"Stand Up\",\"Biryani\",\"EDM\"]</td>\n",
              "      <td>True</td>\n",
              "      <td>2023-03-03T17:57:27.400Z</td>\n",
              "      <td>F</td>\n",
              "      <td>NaN</td>\n",
              "      <td>NaN</td>\n",
              "      <td>NaN</td>\n",
              "      <td>False</td>\n",
              "      <td>Fahad</td>\n",
              "    </tr>\n",
              "  </tbody>\n",
              "</table>\n",
              "<p>1405 rows × 15 columns</p>\n",
              "</div>"
            ],
            "text/plain": [
              "                                                    bio  \\\n",
              "0                    I am very honest and caring person   \n",
              "1                                   Let's go on a date.   \n",
              "2                                           Loving life   \n",
              "3     Jai Maharashtra\\n🥲Bharat Mata ki Jay.....\\nInq...   \n",
              "4                                                     🙄   \n",
              "...                                                 ...   \n",
              "1400  You deserve someone who makes you feel like th...   \n",
              "1401  Let's watch Optimus Prime kill The fallen toge...   \n",
              "1402                       Looking forward to something   \n",
              "1403                                                 Hi   \n",
              "1404                 Multilingual, weekend life, chilla   \n",
              "\n",
              "                                             college  \\\n",
              "0                    [\"Jawaharlal Nehru University\"]   \n",
              "1                                      [\"Heritage \"]   \n",
              "2                    [\"Jawaharlal Nehru University\"]   \n",
              "3                    [\"Jawaharlal Nehru University\"]   \n",
              "4                    [\"Jawaharlal Nehru University\"]   \n",
              "...                                              ...   \n",
              "1400                          [\"Deshbandhu College\"]   \n",
              "1401  [\"Indian Institute of Technology(IIT), Delhi\"]   \n",
              "1402  [\"Indian Institute of Technology(IIT), Delhi\"]   \n",
              "1403                 [\"Jawaharlal Nehru University\"]   \n",
              "1404                 [\"Jawaharlal Nehru University\"]   \n",
              "\n",
              "                           dob  \\\n",
              "0     2002-07-16T00:00:00.000Z   \n",
              "1     1999-02-26T00:00:00.000Z   \n",
              "2     2001-01-08T00:00:00.000Z   \n",
              "3     2000-08-20T00:00:00.000Z   \n",
              "4     2000-07-31T00:00:00.000Z   \n",
              "...                        ...   \n",
              "1400  1998-05-10T00:00:00.000Z   \n",
              "1401  2003-09-01T00:00:00.000Z   \n",
              "1402  2004-09-17T00:00:00.000Z   \n",
              "1403  1995-07-27T00:00:00.000Z   \n",
              "1404  1999-11-01T00:00:00.000Z   \n",
              "\n",
              "                           face_detection_probabilities  \\\n",
              "0                                    [90.7028079032898]   \n",
              "1                                                    []   \n",
              "2                                   [88.67224454879761]   \n",
              "3     [90.63367247581482,70.43942511081696,96.189951...   \n",
              "4                                                   NaN   \n",
              "...                                                 ...   \n",
              "1400                               [61.251795291900635]   \n",
              "1401              [99.27465915679932,93.95707845687866]   \n",
              "1402             [62.929182251294456,88.43805193901062]   \n",
              "1403                                                 []   \n",
              "1404  [98.56662154197693,98.47255349159241,92.074596...   \n",
              "\n",
              "                     createdAt gender  \\\n",
              "0     2023-02-07T05:23:18.004Z      M   \n",
              "1     2023-02-07T05:44:15.450Z      M   \n",
              "2     2023-02-07T05:57:29.233Z      F   \n",
              "3     2023-02-07T06:04:39.836Z      M   \n",
              "4     2023-02-07T07:05:14.605Z      M   \n",
              "...                        ...    ...   \n",
              "1400  2023-03-03T09:53:01.297Z      M   \n",
              "1401  2023-03-03T12:43:15.149Z      M   \n",
              "1402  2023-03-03T12:43:15.633Z      M   \n",
              "1403  2023-03-03T16:12:31.677Z      M   \n",
              "1404  2023-03-03T17:52:52.405Z      M   \n",
              "\n",
              "                                              interests  status  \\\n",
              "0     [\"Art & Craft\",\"Bollywood\",\"Comedy\",\"Design\",\"...    True   \n",
              "1     [\"Singing\",\"Writing\",\"Dancing\",\"Mountains\",\"Bi...    True   \n",
              "2     [\"Badminton\",\"Design\",\"Writing\",\"Open-Minded\",...    True   \n",
              "3     [\"Singing\",\"Cricket\",\"Concerts\",\"Vegetarian\",\"...    True   \n",
              "4       [\"Football\",\"Gym\",\"Biryani\",\"Sci-fi\",\"Cricket\"]    True   \n",
              "...                                                 ...     ...   \n",
              "1400                [\"Documentaries\",\"Reels\",\"Dancing\"]    True   \n",
              "1401                              [\"Rock\",\"Vegetarian\"]    True   \n",
              "1402  [\"Bollywood\",\"EDM\",\"Coffee\",\"Football\",\"Biryani\"]    True   \n",
              "1403                                                 []    True   \n",
              "1404  [\"Running\",\"Swimming\",\"Stand Up\",\"Biryani\",\"EDM\"]    True   \n",
              "\n",
              "                     updatedAt who_to_date is_subscribed is_habit_drink  \\\n",
              "0     2023-02-22T11:57:08.616Z           F          True              N   \n",
              "1     2023-02-21T18:07:44.286Z           F          True              N   \n",
              "2     2023-02-14T10:33:13.373Z           M          True              N   \n",
              "3     2023-02-26T20:28:11.956Z           F          True              N   \n",
              "4     2023-02-07T07:09:17.627Z           A           NaN              N   \n",
              "...                        ...         ...           ...            ...   \n",
              "1400  2023-03-03T09:58:15.338Z           F           NaN            NaN   \n",
              "1401  2023-03-03T15:30:05.813Z           F           NaN              N   \n",
              "1402  2023-03-03T15:10:17.314Z           F           NaN            NaN   \n",
              "1403  2023-03-03T16:22:51.150Z           F           NaN            NaN   \n",
              "1404  2023-03-03T17:57:27.400Z           F           NaN            NaN   \n",
              "\n",
              "     is_habit_smoke is_verified               name  \n",
              "0                 N        True     Prakhar Sharma  \n",
              "1                 N        True               Amit  \n",
              "2                 N        True               Ritz  \n",
              "3                 N        True     Devesh Shukla   \n",
              "4                 N       False  Aditya bhadoriya   \n",
              "...             ...         ...                ...  \n",
              "1400            NaN       False              Rohit  \n",
              "1401            NaN       False       Ayush Shukla  \n",
              "1402            NaN       False     Humayun Mughal  \n",
              "1403            NaN       False          Swatantra  \n",
              "1404            NaN       False              Fahad  \n",
              "\n",
              "[1405 rows x 15 columns]"
            ]
          },
          "execution_count": 82,
          "metadata": {},
          "output_type": "execute_result"
        }
      ],
      "source": [
        "users_df"
      ]
    },
    {
      "cell_type": "code",
      "execution_count": 83,
      "metadata": {
        "colab": {
          "base_uri": "https://localhost:8080/",
          "height": 36
        },
        "id": "AovBAZzuVu2x",
        "outputId": "9eec570a-799c-44c3-e2f9-9f10d43b2f70"
      },
      "outputs": [
        {
          "data": {
            "text/plain": [
              "'[\"Art & Craft\",\"Bollywood\",\"Comedy\",\"Design\",\"Badminton\"]'"
            ]
          },
          "execution_count": 83,
          "metadata": {},
          "output_type": "execute_result"
        }
      ],
      "source": [
        "users_df[\"interests\"][0]"
      ]
    },
    {
      "cell_type": "code",
      "execution_count": 84,
      "metadata": {
        "colab": {
          "base_uri": "https://localhost:8080/"
        },
        "id": "auQx84y3WU5L",
        "outputId": "e7b80143-5e8d-4da7-a622-0f54e4d199ab"
      },
      "outputs": [
        {
          "data": {
            "text/plain": [
              "bio                             329\n",
              "college                           2\n",
              "dob                             213\n",
              "face_detection_probabilities    640\n",
              "createdAt                         0\n",
              "gender                          147\n",
              "interests                         2\n",
              "status                            0\n",
              "updatedAt                         0\n",
              "who_to_date                     215\n",
              "is_subscribed                   848\n",
              "is_habit_drink                  522\n",
              "is_habit_smoke                  525\n",
              "is_verified                       1\n",
              "name                            144\n",
              "dtype: int64"
            ]
          },
          "execution_count": 84,
          "metadata": {},
          "output_type": "execute_result"
        }
      ],
      "source": [
        "users_df.isnull().sum()"
      ]
    },
    {
      "cell_type": "code",
      "execution_count": 85,
      "metadata": {
        "colab": {
          "base_uri": "https://localhost:8080/"
        },
        "id": "tCFet8fpZ6PD",
        "outputId": "30316e74-5650-4836-a1c9-a6757f213b43"
      },
      "outputs": [
        {
          "data": {
            "text/plain": [
              "1113"
            ]
          },
          "execution_count": 85,
          "metadata": {},
          "output_type": "execute_result"
        }
      ],
      "source": [
        "users_df['status'].sum()"
      ]
    },
    {
      "cell_type": "code",
      "execution_count": 86,
      "metadata": {
        "id": "1ifxP-FhYytJ"
      },
      "outputs": [],
      "source": [
        "users_df  = users_df.drop(users_df[users_df.status==False].index)\n"
      ]
    },
    {
      "cell_type": "code",
      "execution_count": 87,
      "metadata": {
        "colab": {
          "base_uri": "https://localhost:8080/"
        },
        "id": "cLtWuLBHZwL4",
        "outputId": "a099be23-8d6d-494d-af55-f63a6e902cfc"
      },
      "outputs": [
        {
          "name": "stdout",
          "output_type": "stream",
          "text": [
            "<class 'pandas.core.frame.DataFrame'>\n",
            "Int64Index: 1113 entries, 0 to 1404\n",
            "Data columns (total 15 columns):\n",
            " #   Column                        Non-Null Count  Dtype \n",
            "---  ------                        --------------  ----- \n",
            " 0   bio                           871 non-null    object\n",
            " 1   college                       1113 non-null   object\n",
            " 2   dob                           963 non-null    object\n",
            " 3   face_detection_probabilities  632 non-null    object\n",
            " 4   createdAt                     1113 non-null   object\n",
            " 5   gender                        993 non-null    object\n",
            " 6   interests                     1113 non-null   object\n",
            " 7   status                        1113 non-null   bool  \n",
            " 8   updatedAt                     1113 non-null   object\n",
            " 9   who_to_date                   961 non-null    object\n",
            " 10  is_subscribed                 346 non-null    object\n",
            " 11  is_habit_drink                718 non-null    object\n",
            " 12  is_habit_smoke                716 non-null    object\n",
            " 13  is_verified                   1113 non-null   object\n",
            " 14  name                          995 non-null    object\n",
            "dtypes: bool(1), object(14)\n",
            "memory usage: 131.5+ KB\n"
          ]
        }
      ],
      "source": [
        "users_df.info()"
      ]
    },
    {
      "cell_type": "code",
      "execution_count": 88,
      "metadata": {
        "colab": {
          "base_uri": "https://localhost:8080/"
        },
        "id": "_jIAvsUfZvcO",
        "outputId": "86c0f355-bca0-4d91-e5c4-9f6004cac0f2"
      },
      "outputs": [
        {
          "data": {
            "text/plain": [
              "bio                             242\n",
              "college                           0\n",
              "dob                             150\n",
              "face_detection_probabilities    481\n",
              "createdAt                         0\n",
              "gender                          120\n",
              "interests                         0\n",
              "status                            0\n",
              "updatedAt                         0\n",
              "who_to_date                     152\n",
              "is_subscribed                   767\n",
              "is_habit_drink                  395\n",
              "is_habit_smoke                  397\n",
              "is_verified                       0\n",
              "name                            118\n",
              "dtype: int64"
            ]
          },
          "execution_count": 88,
          "metadata": {},
          "output_type": "execute_result"
        }
      ],
      "source": [
        "users_df.isnull().sum()"
      ]
    },
    {
      "cell_type": "code",
      "execution_count": 89,
      "metadata": {
        "id": "nbVDEBKVbqBP"
      },
      "outputs": [],
      "source": [
        "users_df  = users_df [users_df ['gender'].notna()]"
      ]
    },
    {
      "cell_type": "code",
      "execution_count": 90,
      "metadata": {
        "colab": {
          "base_uri": "https://localhost:8080/"
        },
        "id": "1H46PGRPbNlf",
        "outputId": "ae945a0d-2af0-4659-b33e-91252af6cf6a"
      },
      "outputs": [
        {
          "data": {
            "text/plain": [
              "bio                             122\n",
              "college                           0\n",
              "dob                              30\n",
              "face_detection_probabilities    422\n",
              "createdAt                         0\n",
              "gender                            0\n",
              "interests                         0\n",
              "status                            0\n",
              "updatedAt                         0\n",
              "who_to_date                      32\n",
              "is_subscribed                   647\n",
              "is_habit_drink                  275\n",
              "is_habit_smoke                  277\n",
              "is_verified                       0\n",
              "name                              0\n",
              "dtype: int64"
            ]
          },
          "execution_count": 90,
          "metadata": {},
          "output_type": "execute_result"
        }
      ],
      "source": [
        "users_df.isnull().sum()"
      ]
    },
    {
      "cell_type": "code",
      "execution_count": 91,
      "metadata": {
        "colab": {
          "base_uri": "https://localhost:8080/"
        },
        "id": "ZtdcHS3zbc7O",
        "outputId": "3b3f7e14-d4de-421a-b237-4c08f95caf19"
      },
      "outputs": [
        {
          "name": "stdout",
          "output_type": "stream",
          "text": [
            "<class 'pandas.core.frame.DataFrame'>\n",
            "Int64Index: 993 entries, 0 to 1404\n",
            "Data columns (total 15 columns):\n",
            " #   Column                        Non-Null Count  Dtype \n",
            "---  ------                        --------------  ----- \n",
            " 0   bio                           871 non-null    object\n",
            " 1   college                       993 non-null    object\n",
            " 2   dob                           963 non-null    object\n",
            " 3   face_detection_probabilities  571 non-null    object\n",
            " 4   createdAt                     993 non-null    object\n",
            " 5   gender                        993 non-null    object\n",
            " 6   interests                     993 non-null    object\n",
            " 7   status                        993 non-null    bool  \n",
            " 8   updatedAt                     993 non-null    object\n",
            " 9   who_to_date                   961 non-null    object\n",
            " 10  is_subscribed                 346 non-null    object\n",
            " 11  is_habit_drink                718 non-null    object\n",
            " 12  is_habit_smoke                716 non-null    object\n",
            " 13  is_verified                   993 non-null    object\n",
            " 14  name                          993 non-null    object\n",
            "dtypes: bool(1), object(14)\n",
            "memory usage: 117.3+ KB\n"
          ]
        }
      ],
      "source": [
        "users_df.info()"
      ]
    },
    {
      "cell_type": "code",
      "execution_count": 92,
      "metadata": {
        "id": "E3Xk2rmIbyrg"
      },
      "outputs": [],
      "source": [
        "users_df['who_to_date'].fillna(\"A\", inplace = True)\n",
        " "
      ]
    },
    {
      "cell_type": "code",
      "execution_count": 93,
      "metadata": {
        "colab": {
          "base_uri": "https://localhost:8080/"
        },
        "id": "MNFP9Qyjcon9",
        "outputId": "7ade9cf4-ddd7-4244-80f7-f166da8cd2fd"
      },
      "outputs": [
        {
          "name": "stdout",
          "output_type": "stream",
          "text": [
            "<class 'pandas.core.frame.DataFrame'>\n",
            "Int64Index: 993 entries, 0 to 1404\n",
            "Data columns (total 15 columns):\n",
            " #   Column                        Non-Null Count  Dtype \n",
            "---  ------                        --------------  ----- \n",
            " 0   bio                           871 non-null    object\n",
            " 1   college                       993 non-null    object\n",
            " 2   dob                           963 non-null    object\n",
            " 3   face_detection_probabilities  571 non-null    object\n",
            " 4   createdAt                     993 non-null    object\n",
            " 5   gender                        993 non-null    object\n",
            " 6   interests                     993 non-null    object\n",
            " 7   status                        993 non-null    bool  \n",
            " 8   updatedAt                     993 non-null    object\n",
            " 9   who_to_date                   993 non-null    object\n",
            " 10  is_subscribed                 346 non-null    object\n",
            " 11  is_habit_drink                718 non-null    object\n",
            " 12  is_habit_smoke                716 non-null    object\n",
            " 13  is_verified                   993 non-null    object\n",
            " 14  name                          993 non-null    object\n",
            "dtypes: bool(1), object(14)\n",
            "memory usage: 117.3+ KB\n"
          ]
        }
      ],
      "source": [
        "users_df.info()"
      ]
    },
    {
      "cell_type": "code",
      "execution_count": 94,
      "metadata": {
        "colab": {
          "base_uri": "https://localhost:8080/",
          "height": 461
        },
        "id": "2AwwDbQpcp5j",
        "outputId": "efee35ea-07a9-4983-ccda-57506c7e0338"
      },
      "outputs": [
        {
          "data": {
            "text/html": [
              "<div>\n",
              "<style scoped>\n",
              "    .dataframe tbody tr th:only-of-type {\n",
              "        vertical-align: middle;\n",
              "    }\n",
              "\n",
              "    .dataframe tbody tr th {\n",
              "        vertical-align: top;\n",
              "    }\n",
              "\n",
              "    .dataframe thead th {\n",
              "        text-align: right;\n",
              "    }\n",
              "</style>\n",
              "<table border=\"1\" class=\"dataframe\">\n",
              "  <thead>\n",
              "    <tr style=\"text-align: right;\">\n",
              "      <th></th>\n",
              "      <th>bio</th>\n",
              "      <th>college</th>\n",
              "      <th>dob</th>\n",
              "      <th>face_detection_probabilities</th>\n",
              "      <th>createdAt</th>\n",
              "      <th>gender</th>\n",
              "      <th>interests</th>\n",
              "      <th>status</th>\n",
              "      <th>updatedAt</th>\n",
              "      <th>who_to_date</th>\n",
              "      <th>is_subscribed</th>\n",
              "      <th>is_habit_drink</th>\n",
              "      <th>is_habit_smoke</th>\n",
              "      <th>is_verified</th>\n",
              "      <th>name</th>\n",
              "    </tr>\n",
              "  </thead>\n",
              "  <tbody>\n",
              "    <tr>\n",
              "      <th>0</th>\n",
              "      <td>I am very honest and caring person</td>\n",
              "      <td>[\"Jawaharlal Nehru University\"]</td>\n",
              "      <td>2002-07-16T00:00:00.000Z</td>\n",
              "      <td>[90.7028079032898]</td>\n",
              "      <td>2023-02-07T05:23:18.004Z</td>\n",
              "      <td>M</td>\n",
              "      <td>[\"Art &amp; Craft\",\"Bollywood\",\"Comedy\",\"Design\",\"...</td>\n",
              "      <td>True</td>\n",
              "      <td>2023-02-22T11:57:08.616Z</td>\n",
              "      <td>F</td>\n",
              "      <td>True</td>\n",
              "      <td>N</td>\n",
              "      <td>N</td>\n",
              "      <td>True</td>\n",
              "      <td>Prakhar Sharma</td>\n",
              "    </tr>\n",
              "    <tr>\n",
              "      <th>1</th>\n",
              "      <td>Let's go on a date.</td>\n",
              "      <td>[\"Heritage \"]</td>\n",
              "      <td>1999-02-26T00:00:00.000Z</td>\n",
              "      <td>[]</td>\n",
              "      <td>2023-02-07T05:44:15.450Z</td>\n",
              "      <td>M</td>\n",
              "      <td>[\"Singing\",\"Writing\",\"Dancing\",\"Mountains\",\"Bi...</td>\n",
              "      <td>True</td>\n",
              "      <td>2023-02-21T18:07:44.286Z</td>\n",
              "      <td>F</td>\n",
              "      <td>True</td>\n",
              "      <td>N</td>\n",
              "      <td>N</td>\n",
              "      <td>True</td>\n",
              "      <td>Amit</td>\n",
              "    </tr>\n",
              "    <tr>\n",
              "      <th>2</th>\n",
              "      <td>Loving life</td>\n",
              "      <td>[\"Jawaharlal Nehru University\"]</td>\n",
              "      <td>2001-01-08T00:00:00.000Z</td>\n",
              "      <td>[88.67224454879761]</td>\n",
              "      <td>2023-02-07T05:57:29.233Z</td>\n",
              "      <td>F</td>\n",
              "      <td>[\"Badminton\",\"Design\",\"Writing\",\"Open-Minded\",...</td>\n",
              "      <td>True</td>\n",
              "      <td>2023-02-14T10:33:13.373Z</td>\n",
              "      <td>M</td>\n",
              "      <td>True</td>\n",
              "      <td>N</td>\n",
              "      <td>N</td>\n",
              "      <td>True</td>\n",
              "      <td>Ritz</td>\n",
              "    </tr>\n",
              "    <tr>\n",
              "      <th>3</th>\n",
              "      <td>Jai Maharashtra\\n🥲Bharat Mata ki Jay.....\\nInq...</td>\n",
              "      <td>[\"Jawaharlal Nehru University\"]</td>\n",
              "      <td>2000-08-20T00:00:00.000Z</td>\n",
              "      <td>[90.63367247581482,70.43942511081696,96.189951...</td>\n",
              "      <td>2023-02-07T06:04:39.836Z</td>\n",
              "      <td>M</td>\n",
              "      <td>[\"Singing\",\"Cricket\",\"Concerts\",\"Vegetarian\",\"...</td>\n",
              "      <td>True</td>\n",
              "      <td>2023-02-26T20:28:11.956Z</td>\n",
              "      <td>F</td>\n",
              "      <td>True</td>\n",
              "      <td>N</td>\n",
              "      <td>N</td>\n",
              "      <td>True</td>\n",
              "      <td>Devesh Shukla</td>\n",
              "    </tr>\n",
              "    <tr>\n",
              "      <th>4</th>\n",
              "      <td>🙄</td>\n",
              "      <td>[\"Jawaharlal Nehru University\"]</td>\n",
              "      <td>2000-07-31T00:00:00.000Z</td>\n",
              "      <td>NaN</td>\n",
              "      <td>2023-02-07T07:05:14.605Z</td>\n",
              "      <td>M</td>\n",
              "      <td>[\"Football\",\"Gym\",\"Biryani\",\"Sci-fi\",\"Cricket\"]</td>\n",
              "      <td>True</td>\n",
              "      <td>2023-02-07T07:09:17.627Z</td>\n",
              "      <td>A</td>\n",
              "      <td>NaN</td>\n",
              "      <td>N</td>\n",
              "      <td>N</td>\n",
              "      <td>False</td>\n",
              "      <td>Aditya bhadoriya</td>\n",
              "    </tr>\n",
              "  </tbody>\n",
              "</table>\n",
              "</div>"
            ],
            "text/plain": [
              "                                                 bio  \\\n",
              "0                 I am very honest and caring person   \n",
              "1                                Let's go on a date.   \n",
              "2                                        Loving life   \n",
              "3  Jai Maharashtra\\n🥲Bharat Mata ki Jay.....\\nInq...   \n",
              "4                                                  🙄   \n",
              "\n",
              "                           college                       dob  \\\n",
              "0  [\"Jawaharlal Nehru University\"]  2002-07-16T00:00:00.000Z   \n",
              "1                    [\"Heritage \"]  1999-02-26T00:00:00.000Z   \n",
              "2  [\"Jawaharlal Nehru University\"]  2001-01-08T00:00:00.000Z   \n",
              "3  [\"Jawaharlal Nehru University\"]  2000-08-20T00:00:00.000Z   \n",
              "4  [\"Jawaharlal Nehru University\"]  2000-07-31T00:00:00.000Z   \n",
              "\n",
              "                        face_detection_probabilities  \\\n",
              "0                                 [90.7028079032898]   \n",
              "1                                                 []   \n",
              "2                                [88.67224454879761]   \n",
              "3  [90.63367247581482,70.43942511081696,96.189951...   \n",
              "4                                                NaN   \n",
              "\n",
              "                  createdAt gender  \\\n",
              "0  2023-02-07T05:23:18.004Z      M   \n",
              "1  2023-02-07T05:44:15.450Z      M   \n",
              "2  2023-02-07T05:57:29.233Z      F   \n",
              "3  2023-02-07T06:04:39.836Z      M   \n",
              "4  2023-02-07T07:05:14.605Z      M   \n",
              "\n",
              "                                           interests  status  \\\n",
              "0  [\"Art & Craft\",\"Bollywood\",\"Comedy\",\"Design\",\"...    True   \n",
              "1  [\"Singing\",\"Writing\",\"Dancing\",\"Mountains\",\"Bi...    True   \n",
              "2  [\"Badminton\",\"Design\",\"Writing\",\"Open-Minded\",...    True   \n",
              "3  [\"Singing\",\"Cricket\",\"Concerts\",\"Vegetarian\",\"...    True   \n",
              "4    [\"Football\",\"Gym\",\"Biryani\",\"Sci-fi\",\"Cricket\"]    True   \n",
              "\n",
              "                  updatedAt who_to_date is_subscribed is_habit_drink  \\\n",
              "0  2023-02-22T11:57:08.616Z           F          True              N   \n",
              "1  2023-02-21T18:07:44.286Z           F          True              N   \n",
              "2  2023-02-14T10:33:13.373Z           M          True              N   \n",
              "3  2023-02-26T20:28:11.956Z           F          True              N   \n",
              "4  2023-02-07T07:09:17.627Z           A           NaN              N   \n",
              "\n",
              "  is_habit_smoke is_verified               name  \n",
              "0              N        True     Prakhar Sharma  \n",
              "1              N        True               Amit  \n",
              "2              N        True               Ritz  \n",
              "3              N        True     Devesh Shukla   \n",
              "4              N       False  Aditya bhadoriya   "
            ]
          },
          "execution_count": 94,
          "metadata": {},
          "output_type": "execute_result"
        }
      ],
      "source": [
        "users_df.head()"
      ]
    },
    {
      "cell_type": "code",
      "execution_count": 95,
      "metadata": {
        "colab": {
          "base_uri": "https://localhost:8080/"
        },
        "id": "PBijXqQ9wG5k",
        "outputId": "26ea3038-e216-49f2-9201-38de1801a58b"
      },
      "outputs": [
        {
          "data": {
            "text/plain": [
              "str"
            ]
          },
          "execution_count": 95,
          "metadata": {},
          "output_type": "execute_result"
        }
      ],
      "source": [
        "type(users['bio'].iloc[4])"
      ]
    },
    {
      "cell_type": "code",
      "execution_count": 96,
      "metadata": {
        "id": "JfEDFOHmYZL1"
      },
      "outputs": [],
      "source": [
        "def format_interests(s):\n",
        "  return re.sub(\"\\\"|\\[|\\]|\\'\", \"\", s)\n",
        "\n",
        "users['interests'] = users.interests.apply(lambda x: format_interests(str(x)))\n",
        "users['college'] = users.college.apply(lambda x: format_interests(str(x)))"
      ]
    },
    {
      "cell_type": "code",
      "execution_count": 97,
      "metadata": {
        "id": "4gP7osavohOZ"
      },
      "outputs": [],
      "source": [
        "users['clg'] = users.college.apply(lambda x: x.lower())"
      ]
    },
    {
      "cell_type": "code",
      "execution_count": 98,
      "metadata": {
        "id": "BqzuWQhOVVHr"
      },
      "outputs": [],
      "source": [
        "users['clg'] = users.clg.apply(lambda x: re.sub('ja[vw]a.*', \"JNU\", str(x)))"
      ]
    },
    {
      "cell_type": "code",
      "execution_count": 99,
      "metadata": {
        "id": "RGaKvNz2n9hX"
      },
      "outputs": [],
      "source": [
        "users['clg'] = users.clg.apply(lambda x: re.sub('.*[jJ][nN][uU].*', \"JNU\", str(x)))"
      ]
    },
    {
      "cell_type": "code",
      "execution_count": 100,
      "metadata": {
        "id": "L7Rqfe_3pT4r"
      },
      "outputs": [],
      "source": [
        "users['clg'] = users.clg.apply(lambda x: re.sub('.*heritage.*', \"HERITAGE\", str(x)))"
      ]
    },
    {
      "cell_type": "code",
      "execution_count": 101,
      "metadata": {
        "id": "dkdlMxFIt259"
      },
      "outputs": [],
      "source": [
        "users['clg'] = users.clg.apply(lambda x: re.sub('.*iit.*d+.*', \"IITD\", str(x)))\n",
        "users['clg'] = users.clg.apply(lambda x: re.sub('indian institute of technology', \"iit\", str(x)))\n",
        "users['clg'] = users.clg.apply(lambda x: re.sub('.*iit.*bhu*.*', \"IITBHU\", str(x)))\n",
        "users['clg'] = users.clg.apply(lambda x: re.sub('.*delhi university.*', \"DU\", str(x)))\n",
        "users['clg'] = users.clg.apply(lambda x: re.sub('.*du.*', \"DU\", str(x)))\n",
        "users['clg'] = users.clg.apply(lambda x: re.sub('.*delhi college of engineering.*', \"DCE\", str(x)))"
      ]
    },
    {
      "cell_type": "code",
      "execution_count": 102,
      "metadata": {
        "id": "-1Zn_q96s8az"
      },
      "outputs": [],
      "source": [
        "U = users['clg'].unique()"
      ]
    },
    {
      "cell_type": "code",
      "execution_count": 103,
      "metadata": {
        "colab": {
          "base_uri": "https://localhost:8080/"
        },
        "id": "ihLUlc0YVqvp",
        "outputId": "fbd6ffed-be5e-4851-c110-cda833cdfc68"
      },
      "outputs": [
        {
          "data": {
            "text/plain": [
              "JNU                                     770\n",
              "                                        226\n",
              "miranda house                            64\n",
              "DU                                       63\n",
              "IITD                                     13\n",
              "                                       ... \n",
              "dr bhim rao ambedkar college              1\n",
              "jkbk                                      1\n",
              "...                                       1\n",
              "faculty of arts, university of delhi      1\n",
              "dps                                       1\n",
              "Name: clg, Length: 173, dtype: int64"
            ]
          },
          "execution_count": 103,
          "metadata": {},
          "output_type": "execute_result"
        }
      ],
      "source": [
        "users['clg'].value_counts()"
      ]
    },
    {
      "cell_type": "code",
      "execution_count": 104,
      "metadata": {
        "colab": {
          "base_uri": "https://localhost:8080/"
        },
        "id": "y_Vfjf0d2KZj",
        "outputId": "ab14cdf1-1f03-43ff-cad6-059663e8d54f"
      },
      "outputs": [
        {
          "name": "stdout",
          "output_type": "stream",
          "text": [
            "<class 'pandas.core.frame.DataFrame'>\n",
            "RangeIndex: 1405 entries, 0 to 1404\n",
            "Data columns (total 25 columns):\n",
            " #   Column                        Non-Null Count  Dtype  \n",
            "---  ------                        --------------  -----  \n",
            " 0   _id                           1405 non-null   int64  \n",
            " 1   bio                           1076 non-null   object \n",
            " 2   college                       1405 non-null   object \n",
            " 3   country                       1405 non-null   object \n",
            " 4   createdAt                     1405 non-null   object \n",
            " 5   dob                           1192 non-null   object \n",
            " 6   email                         1405 non-null   object \n",
            " 7   face_detection_probabilities  765 non-null    object \n",
            " 8   gender                        1258 non-null   object \n",
            " 9   height                        646 non-null    float64\n",
            " 10  insta_username                0 non-null      float64\n",
            " 11  interests                     1405 non-null   object \n",
            " 12  is_habit_drink                883 non-null    object \n",
            " 13  is_habit_smoke                880 non-null    object \n",
            " 14  is_verified                   1404 non-null   object \n",
            " 15  mobile                        1405 non-null   int64  \n",
            " 16  name                          1261 non-null   object \n",
            " 17  status                        1405 non-null   bool   \n",
            " 18  type                          1405 non-null   object \n",
            " 19  updatedAt                     1405 non-null   object \n",
            " 20  verified_at                   178 non-null    object \n",
            " 21  what_to_find                  884 non-null    object \n",
            " 22  who_to_date                   1190 non-null   object \n",
            " 23  is_subscribed                 557 non-null    object \n",
            " 24  clg                           1405 non-null   object \n",
            "dtypes: bool(1), float64(2), int64(2), object(20)\n",
            "memory usage: 264.9+ KB\n"
          ]
        }
      ],
      "source": [
        "users.info()"
      ]
    },
    {
      "cell_type": "code",
      "execution_count": 105,
      "metadata": {
        "id": "SoEjuGkX9tLQ"
      },
      "outputs": [
        {
          "data": {
            "text/html": [
              "<div>\n",
              "<style scoped>\n",
              "    .dataframe tbody tr th:only-of-type {\n",
              "        vertical-align: middle;\n",
              "    }\n",
              "\n",
              "    .dataframe tbody tr th {\n",
              "        vertical-align: top;\n",
              "    }\n",
              "\n",
              "    .dataframe thead th {\n",
              "        text-align: right;\n",
              "    }\n",
              "</style>\n",
              "<table border=\"1\" class=\"dataframe\">\n",
              "  <thead>\n",
              "    <tr style=\"text-align: right;\">\n",
              "      <th></th>\n",
              "      <th>_id</th>\n",
              "      <th>bio</th>\n",
              "      <th>college</th>\n",
              "      <th>country</th>\n",
              "      <th>createdAt</th>\n",
              "      <th>dob</th>\n",
              "      <th>email</th>\n",
              "      <th>face_detection_probabilities</th>\n",
              "      <th>gender</th>\n",
              "      <th>height</th>\n",
              "      <th>...</th>\n",
              "      <th>name</th>\n",
              "      <th>status</th>\n",
              "      <th>type</th>\n",
              "      <th>updatedAt</th>\n",
              "      <th>verified_at</th>\n",
              "      <th>what_to_find</th>\n",
              "      <th>who_to_date</th>\n",
              "      <th>is_subscribed</th>\n",
              "      <th>clg</th>\n",
              "      <th>age</th>\n",
              "    </tr>\n",
              "  </thead>\n",
              "  <tbody>\n",
              "    <tr>\n",
              "      <th>0</th>\n",
              "      <td>0</td>\n",
              "      <td>I am very honest and caring person</td>\n",
              "      <td>Jawaharlal Nehru University</td>\n",
              "      <td>IN</td>\n",
              "      <td>2023-02-07T05:23:18.004Z</td>\n",
              "      <td>2002-07-16</td>\n",
              "      <td>9000000000@get.idyll</td>\n",
              "      <td>[90.7028079032898]</td>\n",
              "      <td>M</td>\n",
              "      <td>175.0</td>\n",
              "      <td>...</td>\n",
              "      <td>Prakhar Sharma</td>\n",
              "      <td>True</td>\n",
              "      <td>U</td>\n",
              "      <td>2023-02-22T11:57:08.616Z</td>\n",
              "      <td>2023-02-22T11:57:04.347Z</td>\n",
              "      <td>C</td>\n",
              "      <td>F</td>\n",
              "      <td>True</td>\n",
              "      <td>JNU</td>\n",
              "      <td>21.0</td>\n",
              "    </tr>\n",
              "    <tr>\n",
              "      <th>1</th>\n",
              "      <td>1</td>\n",
              "      <td>Let's go on a date.</td>\n",
              "      <td>Heritage</td>\n",
              "      <td>IN</td>\n",
              "      <td>2023-02-07T05:44:15.450Z</td>\n",
              "      <td>1999-02-26</td>\n",
              "      <td>9100000000@get.idyll</td>\n",
              "      <td>[]</td>\n",
              "      <td>M</td>\n",
              "      <td>177.0</td>\n",
              "      <td>...</td>\n",
              "      <td>Amit</td>\n",
              "      <td>True</td>\n",
              "      <td>U</td>\n",
              "      <td>2023-02-21T18:07:44.286Z</td>\n",
              "      <td>2023-02-21T18:01:34.165Z</td>\n",
              "      <td>C</td>\n",
              "      <td>F</td>\n",
              "      <td>True</td>\n",
              "      <td>HERITAGE</td>\n",
              "      <td>24.0</td>\n",
              "    </tr>\n",
              "    <tr>\n",
              "      <th>2</th>\n",
              "      <td>2</td>\n",
              "      <td>Loving life</td>\n",
              "      <td>Jawaharlal Nehru University</td>\n",
              "      <td>IN</td>\n",
              "      <td>2023-02-07T05:57:29.233Z</td>\n",
              "      <td>2001-01-08</td>\n",
              "      <td>9200000000@get.idyll</td>\n",
              "      <td>[88.67224454879761]</td>\n",
              "      <td>F</td>\n",
              "      <td>175.0</td>\n",
              "      <td>...</td>\n",
              "      <td>Ritz</td>\n",
              "      <td>True</td>\n",
              "      <td>U</td>\n",
              "      <td>2023-02-14T10:33:13.373Z</td>\n",
              "      <td>NaN</td>\n",
              "      <td>R</td>\n",
              "      <td>M</td>\n",
              "      <td>True</td>\n",
              "      <td>JNU</td>\n",
              "      <td>22.0</td>\n",
              "    </tr>\n",
              "    <tr>\n",
              "      <th>3</th>\n",
              "      <td>3</td>\n",
              "      <td>Jai Maharashtra\\n🥲Bharat Mata ki Jay.....\\nInq...</td>\n",
              "      <td>Jawaharlal Nehru University</td>\n",
              "      <td>IN</td>\n",
              "      <td>2023-02-07T06:04:39.836Z</td>\n",
              "      <td>2000-08-20</td>\n",
              "      <td>9300000000@get.idyll</td>\n",
              "      <td>[90.63367247581482,70.43942511081696,96.189951...</td>\n",
              "      <td>M</td>\n",
              "      <td>177.0</td>\n",
              "      <td>...</td>\n",
              "      <td>Devesh Shukla</td>\n",
              "      <td>True</td>\n",
              "      <td>U</td>\n",
              "      <td>2023-02-26T20:28:11.956Z</td>\n",
              "      <td>NaN</td>\n",
              "      <td>R</td>\n",
              "      <td>F</td>\n",
              "      <td>True</td>\n",
              "      <td>JNU</td>\n",
              "      <td>23.0</td>\n",
              "    </tr>\n",
              "    <tr>\n",
              "      <th>4</th>\n",
              "      <td>4</td>\n",
              "      <td>🙄</td>\n",
              "      <td>Jawaharlal Nehru University</td>\n",
              "      <td>IN</td>\n",
              "      <td>2023-02-07T07:05:14.605Z</td>\n",
              "      <td>2000-07-31</td>\n",
              "      <td>9400000000@get.idyll</td>\n",
              "      <td>NaN</td>\n",
              "      <td>M</td>\n",
              "      <td>178.0</td>\n",
              "      <td>...</td>\n",
              "      <td>Aditya bhadoriya</td>\n",
              "      <td>True</td>\n",
              "      <td>U</td>\n",
              "      <td>2023-02-07T07:09:17.627Z</td>\n",
              "      <td>NaN</td>\n",
              "      <td>NS</td>\n",
              "      <td>A</td>\n",
              "      <td>NaN</td>\n",
              "      <td>JNU</td>\n",
              "      <td>23.0</td>\n",
              "    </tr>\n",
              "    <tr>\n",
              "      <th>...</th>\n",
              "      <td>...</td>\n",
              "      <td>...</td>\n",
              "      <td>...</td>\n",
              "      <td>...</td>\n",
              "      <td>...</td>\n",
              "      <td>...</td>\n",
              "      <td>...</td>\n",
              "      <td>...</td>\n",
              "      <td>...</td>\n",
              "      <td>...</td>\n",
              "      <td>...</td>\n",
              "      <td>...</td>\n",
              "      <td>...</td>\n",
              "      <td>...</td>\n",
              "      <td>...</td>\n",
              "      <td>...</td>\n",
              "      <td>...</td>\n",
              "      <td>...</td>\n",
              "      <td>...</td>\n",
              "      <td>...</td>\n",
              "      <td>...</td>\n",
              "    </tr>\n",
              "    <tr>\n",
              "      <th>1400</th>\n",
              "      <td>1400</td>\n",
              "      <td>You deserve someone who makes you feel like th...</td>\n",
              "      <td>Deshbandhu College</td>\n",
              "      <td>IN</td>\n",
              "      <td>2023-03-03T09:53:01.297Z</td>\n",
              "      <td>1998-05-10</td>\n",
              "      <td>9140000000@get.idyll</td>\n",
              "      <td>[61.251795291900635]</td>\n",
              "      <td>M</td>\n",
              "      <td>NaN</td>\n",
              "      <td>...</td>\n",
              "      <td>Rohit</td>\n",
              "      <td>True</td>\n",
              "      <td>U</td>\n",
              "      <td>2023-03-03T09:58:15.338Z</td>\n",
              "      <td>NaN</td>\n",
              "      <td>NaN</td>\n",
              "      <td>F</td>\n",
              "      <td>NaN</td>\n",
              "      <td>deshbandhu college</td>\n",
              "      <td>25.0</td>\n",
              "    </tr>\n",
              "    <tr>\n",
              "      <th>1401</th>\n",
              "      <td>1401</td>\n",
              "      <td>Let's watch Optimus Prime kill The fallen toge...</td>\n",
              "      <td>Indian Institute of Technology(IIT), Delhi</td>\n",
              "      <td>IN</td>\n",
              "      <td>2023-03-03T12:43:15.149Z</td>\n",
              "      <td>2003-09-01</td>\n",
              "      <td>9140100000@get.idyll</td>\n",
              "      <td>[99.27465915679932,93.95707845687866]</td>\n",
              "      <td>M</td>\n",
              "      <td>NaN</td>\n",
              "      <td>...</td>\n",
              "      <td>Ayush Shukla</td>\n",
              "      <td>True</td>\n",
              "      <td>U</td>\n",
              "      <td>2023-03-03T15:30:05.813Z</td>\n",
              "      <td>NaN</td>\n",
              "      <td>NaN</td>\n",
              "      <td>F</td>\n",
              "      <td>NaN</td>\n",
              "      <td>IITD</td>\n",
              "      <td>20.0</td>\n",
              "    </tr>\n",
              "    <tr>\n",
              "      <th>1402</th>\n",
              "      <td>1402</td>\n",
              "      <td>Looking forward to something</td>\n",
              "      <td>Indian Institute of Technology(IIT), Delhi</td>\n",
              "      <td>IN</td>\n",
              "      <td>2023-03-03T12:43:15.633Z</td>\n",
              "      <td>2004-09-17</td>\n",
              "      <td>9140200000@get.idyll</td>\n",
              "      <td>[62.929182251294456,88.43805193901062]</td>\n",
              "      <td>M</td>\n",
              "      <td>NaN</td>\n",
              "      <td>...</td>\n",
              "      <td>Humayun Mughal</td>\n",
              "      <td>True</td>\n",
              "      <td>U</td>\n",
              "      <td>2023-03-03T15:10:17.314Z</td>\n",
              "      <td>NaN</td>\n",
              "      <td>NaN</td>\n",
              "      <td>F</td>\n",
              "      <td>NaN</td>\n",
              "      <td>IITD</td>\n",
              "      <td>19.0</td>\n",
              "    </tr>\n",
              "    <tr>\n",
              "      <th>1403</th>\n",
              "      <td>1403</td>\n",
              "      <td>Hi</td>\n",
              "      <td>Jawaharlal Nehru University</td>\n",
              "      <td>IN</td>\n",
              "      <td>2023-03-03T16:12:31.677Z</td>\n",
              "      <td>1995-07-27</td>\n",
              "      <td>9140300000@get.idyll</td>\n",
              "      <td>[]</td>\n",
              "      <td>M</td>\n",
              "      <td>NaN</td>\n",
              "      <td>...</td>\n",
              "      <td>Swatantra</td>\n",
              "      <td>True</td>\n",
              "      <td>U</td>\n",
              "      <td>2023-03-03T16:22:51.150Z</td>\n",
              "      <td>NaN</td>\n",
              "      <td>NaN</td>\n",
              "      <td>F</td>\n",
              "      <td>NaN</td>\n",
              "      <td>JNU</td>\n",
              "      <td>28.0</td>\n",
              "    </tr>\n",
              "    <tr>\n",
              "      <th>1404</th>\n",
              "      <td>1404</td>\n",
              "      <td>Multilingual, weekend life, chilla</td>\n",
              "      <td>Jawaharlal Nehru University</td>\n",
              "      <td>IN</td>\n",
              "      <td>2023-03-03T17:52:52.405Z</td>\n",
              "      <td>1999-11-01</td>\n",
              "      <td>9140400000@get.idyll</td>\n",
              "      <td>[98.56662154197693,98.47255349159241,92.074596...</td>\n",
              "      <td>M</td>\n",
              "      <td>NaN</td>\n",
              "      <td>...</td>\n",
              "      <td>Fahad</td>\n",
              "      <td>True</td>\n",
              "      <td>U</td>\n",
              "      <td>2023-03-03T17:57:27.400Z</td>\n",
              "      <td>NaN</td>\n",
              "      <td>NaN</td>\n",
              "      <td>F</td>\n",
              "      <td>NaN</td>\n",
              "      <td>JNU</td>\n",
              "      <td>24.0</td>\n",
              "    </tr>\n",
              "  </tbody>\n",
              "</table>\n",
              "<p>1405 rows × 26 columns</p>\n",
              "</div>"
            ],
            "text/plain": [
              "       _id                                                bio  \\\n",
              "0        0                 I am very honest and caring person   \n",
              "1        1                                Let's go on a date.   \n",
              "2        2                                        Loving life   \n",
              "3        3  Jai Maharashtra\\n🥲Bharat Mata ki Jay.....\\nInq...   \n",
              "4        4                                                  🙄   \n",
              "...    ...                                                ...   \n",
              "1400  1400  You deserve someone who makes you feel like th...   \n",
              "1401  1401  Let's watch Optimus Prime kill The fallen toge...   \n",
              "1402  1402                       Looking forward to something   \n",
              "1403  1403                                                 Hi   \n",
              "1404  1404                 Multilingual, weekend life, chilla   \n",
              "\n",
              "                                         college country  \\\n",
              "0                    Jawaharlal Nehru University      IN   \n",
              "1                                      Heritage       IN   \n",
              "2                    Jawaharlal Nehru University      IN   \n",
              "3                    Jawaharlal Nehru University      IN   \n",
              "4                    Jawaharlal Nehru University      IN   \n",
              "...                                          ...     ...   \n",
              "1400                          Deshbandhu College      IN   \n",
              "1401  Indian Institute of Technology(IIT), Delhi      IN   \n",
              "1402  Indian Institute of Technology(IIT), Delhi      IN   \n",
              "1403                 Jawaharlal Nehru University      IN   \n",
              "1404                 Jawaharlal Nehru University      IN   \n",
              "\n",
              "                     createdAt         dob                 email  \\\n",
              "0     2023-02-07T05:23:18.004Z  2002-07-16  9000000000@get.idyll   \n",
              "1     2023-02-07T05:44:15.450Z  1999-02-26  9100000000@get.idyll   \n",
              "2     2023-02-07T05:57:29.233Z  2001-01-08  9200000000@get.idyll   \n",
              "3     2023-02-07T06:04:39.836Z  2000-08-20  9300000000@get.idyll   \n",
              "4     2023-02-07T07:05:14.605Z  2000-07-31  9400000000@get.idyll   \n",
              "...                        ...         ...                   ...   \n",
              "1400  2023-03-03T09:53:01.297Z  1998-05-10  9140000000@get.idyll   \n",
              "1401  2023-03-03T12:43:15.149Z  2003-09-01  9140100000@get.idyll   \n",
              "1402  2023-03-03T12:43:15.633Z  2004-09-17  9140200000@get.idyll   \n",
              "1403  2023-03-03T16:12:31.677Z  1995-07-27  9140300000@get.idyll   \n",
              "1404  2023-03-03T17:52:52.405Z  1999-11-01  9140400000@get.idyll   \n",
              "\n",
              "                           face_detection_probabilities gender  height  ...  \\\n",
              "0                                    [90.7028079032898]      M   175.0  ...   \n",
              "1                                                    []      M   177.0  ...   \n",
              "2                                   [88.67224454879761]      F   175.0  ...   \n",
              "3     [90.63367247581482,70.43942511081696,96.189951...      M   177.0  ...   \n",
              "4                                                   NaN      M   178.0  ...   \n",
              "...                                                 ...    ...     ...  ...   \n",
              "1400                               [61.251795291900635]      M     NaN  ...   \n",
              "1401              [99.27465915679932,93.95707845687866]      M     NaN  ...   \n",
              "1402             [62.929182251294456,88.43805193901062]      M     NaN  ...   \n",
              "1403                                                 []      M     NaN  ...   \n",
              "1404  [98.56662154197693,98.47255349159241,92.074596...      M     NaN  ...   \n",
              "\n",
              "                   name status type                 updatedAt  \\\n",
              "0        Prakhar Sharma   True    U  2023-02-22T11:57:08.616Z   \n",
              "1                  Amit   True    U  2023-02-21T18:07:44.286Z   \n",
              "2                  Ritz   True    U  2023-02-14T10:33:13.373Z   \n",
              "3        Devesh Shukla    True    U  2023-02-26T20:28:11.956Z   \n",
              "4     Aditya bhadoriya    True    U  2023-02-07T07:09:17.627Z   \n",
              "...                 ...    ...  ...                       ...   \n",
              "1400              Rohit   True    U  2023-03-03T09:58:15.338Z   \n",
              "1401       Ayush Shukla   True    U  2023-03-03T15:30:05.813Z   \n",
              "1402     Humayun Mughal   True    U  2023-03-03T15:10:17.314Z   \n",
              "1403          Swatantra   True    U  2023-03-03T16:22:51.150Z   \n",
              "1404              Fahad   True    U  2023-03-03T17:57:27.400Z   \n",
              "\n",
              "                   verified_at  what_to_find who_to_date  is_subscribed  \\\n",
              "0     2023-02-22T11:57:04.347Z             C           F           True   \n",
              "1     2023-02-21T18:01:34.165Z             C           F           True   \n",
              "2                          NaN             R           M           True   \n",
              "3                          NaN             R           F           True   \n",
              "4                          NaN            NS           A            NaN   \n",
              "...                        ...           ...         ...            ...   \n",
              "1400                       NaN           NaN           F            NaN   \n",
              "1401                       NaN           NaN           F            NaN   \n",
              "1402                       NaN           NaN           F            NaN   \n",
              "1403                       NaN           NaN           F            NaN   \n",
              "1404                       NaN           NaN           F            NaN   \n",
              "\n",
              "                     clg   age  \n",
              "0                    JNU  21.0  \n",
              "1               HERITAGE  24.0  \n",
              "2                    JNU  22.0  \n",
              "3                    JNU  23.0  \n",
              "4                    JNU  23.0  \n",
              "...                  ...   ...  \n",
              "1400  deshbandhu college  25.0  \n",
              "1401                IITD  20.0  \n",
              "1402                IITD  19.0  \n",
              "1403                 JNU  28.0  \n",
              "1404                 JNU  24.0  \n",
              "\n",
              "[1405 rows x 26 columns]"
            ]
          },
          "execution_count": 105,
          "metadata": {},
          "output_type": "execute_result"
        }
      ],
      "source": [
        "# def date(obj):\n",
        "#   return obj[0:11]\n",
        "\n",
        "# users.dob=users.dob.apply(date)\n",
        "users['dob'] = pd.to_datetime(users['dob']).dt.strftime('%Y-%m-%d')\n",
        "users['age'] = users['dob'].apply(lambda x: pd.to_datetime('today').year - pd.to_datetime(x).year)\n",
        "users\n"
      ]
    },
    {
      "cell_type": "code",
      "execution_count": 106,
      "metadata": {
        "id": "ViZRd86W_avk"
      },
      "outputs": [
        {
          "data": {
            "text/plain": [
              "M     946\n",
              "F     306\n",
              "NB      6\n",
              "Name: gender, dtype: int64"
            ]
          },
          "execution_count": 106,
          "metadata": {},
          "output_type": "execute_result"
        }
      ],
      "source": [
        "users.gender.value_counts()"
      ]
    },
    {
      "cell_type": "code",
      "execution_count": 107,
      "metadata": {
        "id": "sQewZ_mv_Ohl"
      },
      "outputs": [
        {
          "data": {
            "text/plain": [
              "Male          946\n",
              "Female        306\n",
              "Non Binary      6\n",
              "Name: gender, dtype: int64"
            ]
          },
          "execution_count": 107,
          "metadata": {},
          "output_type": "execute_result"
        }
      ],
      "source": [
        "users.gender=users.gender.replace(to_replace=\"M\",value=\"Male\")\n",
        "users.gender=users.gender.replace(to_replace=\"F\",value=\"Female\")\n",
        "users.gender=users.gender.replace(to_replace=\"NB\",value=\"Non Binary\")\n",
        "users.gender.value_counts()\n"
      ]
    },
    {
      "cell_type": "code",
      "execution_count": 108,
      "metadata": {
        "id": "J2EIgh5yA5sB"
      },
      "outputs": [
        {
          "data": {
            "text/plain": [
              "Female        885\n",
              "Male          238\n",
              "Anyone         64\n",
              "Non Binary      3\n",
              "Name: who_to_date, dtype: int64"
            ]
          },
          "execution_count": 108,
          "metadata": {},
          "output_type": "execute_result"
        }
      ],
      "source": [
        "users.who_to_date=users.who_to_date.replace(to_replace=\"M\",value=\"Male\")\n",
        "users.who_to_date=users.who_to_date.replace(to_replace=\"F\",value=\"Female\")\n",
        "users.who_to_date=users.who_to_date.replace(to_replace=\"A\",value=\"Anyone\")\n",
        "users.who_to_date=users.who_to_date.replace(to_replace=\"NB\",value=\"Non Binary\")\n",
        "users.who_to_date.value_counts()"
      ]
    },
    {
      "cell_type": "code",
      "execution_count": 109,
      "metadata": {
        "id": "mnoHO73NBbT4"
      },
      "outputs": [
        {
          "name": "stdout",
          "output_type": "stream",
          "text": [
            "<class 'pandas.core.frame.DataFrame'>\n",
            "RangeIndex: 1405 entries, 0 to 1404\n",
            "Data columns (total 26 columns):\n",
            " #   Column                        Non-Null Count  Dtype  \n",
            "---  ------                        --------------  -----  \n",
            " 0   _id                           1405 non-null   int64  \n",
            " 1   bio                           1076 non-null   object \n",
            " 2   college                       1405 non-null   object \n",
            " 3   country                       1405 non-null   object \n",
            " 4   createdAt                     1405 non-null   object \n",
            " 5   dob                           1192 non-null   object \n",
            " 6   email                         1405 non-null   object \n",
            " 7   face_detection_probabilities  765 non-null    object \n",
            " 8   gender                        1258 non-null   object \n",
            " 9   height                        646 non-null    float64\n",
            " 10  insta_username                0 non-null      float64\n",
            " 11  interests                     1405 non-null   object \n",
            " 12  is_habit_drink                883 non-null    object \n",
            " 13  is_habit_smoke                880 non-null    object \n",
            " 14  is_verified                   1404 non-null   object \n",
            " 15  mobile                        1405 non-null   int64  \n",
            " 16  name                          1261 non-null   object \n",
            " 17  status                        1405 non-null   bool   \n",
            " 18  type                          1405 non-null   object \n",
            " 19  updatedAt                     1405 non-null   object \n",
            " 20  verified_at                   178 non-null    object \n",
            " 21  what_to_find                  884 non-null    object \n",
            " 22  who_to_date                   1190 non-null   object \n",
            " 23  is_subscribed                 557 non-null    object \n",
            " 24  clg                           1405 non-null   object \n",
            " 25  age                           1192 non-null   float64\n",
            "dtypes: bool(1), float64(3), int64(2), object(20)\n",
            "memory usage: 275.9+ KB\n"
          ]
        }
      ],
      "source": [
        "users.info()"
      ]
    },
    {
      "cell_type": "code",
      "execution_count": 110,
      "metadata": {
        "id": "vR8fpL8LCFFk"
      },
      "outputs": [
        {
          "data": {
            "text/plain": [
              "N    428\n",
              "S    355\n",
              "O    100\n",
              "Name: is_habit_drink, dtype: int64"
            ]
          },
          "execution_count": 110,
          "metadata": {},
          "output_type": "execute_result"
        }
      ],
      "source": [
        "users.is_habit_drink.value_counts()\n"
      ]
    },
    {
      "cell_type": "code",
      "execution_count": 111,
      "metadata": {
        "id": "1GsiO1hkB_re"
      },
      "outputs": [
        {
          "data": {
            "text/plain": [
              "          428\n",
              "Social    355\n",
              "Drink     100\n",
              "Name: is_habit_drink, dtype: int64"
            ]
          },
          "execution_count": 111,
          "metadata": {},
          "output_type": "execute_result"
        }
      ],
      "source": [
        "users.is_habit_drink=users.is_habit_drink.replace(to_replace=\"N\",value=\"\")\n",
        "users.is_habit_drink=users.is_habit_drink.replace(to_replace=\"O\",value=\"Drink\")\n",
        "users.is_habit_drink=users.is_habit_drink.replace(to_replace=\"S\",value=\"Social\")\n",
        "users.is_habit_drink.value_counts()\n"
      ]
    },
    {
      "cell_type": "code",
      "execution_count": 112,
      "metadata": {
        "id": "ZebEmT6GCsZT"
      },
      "outputs": [
        {
          "data": {
            "text/plain": [
              "N    561\n",
              "S    200\n",
              "O    119\n",
              "Name: is_habit_smoke, dtype: int64"
            ]
          },
          "execution_count": 112,
          "metadata": {},
          "output_type": "execute_result"
        }
      ],
      "source": [
        "users.is_habit_smoke.value_counts()"
      ]
    },
    {
      "cell_type": "code",
      "execution_count": 113,
      "metadata": {
        "id": "uu0aTqdoCiS8"
      },
      "outputs": [
        {
          "data": {
            "text/plain": [
              "          561\n",
              "Social    200\n",
              "Smoke     119\n",
              "Name: is_habit_smoke, dtype: int64"
            ]
          },
          "execution_count": 113,
          "metadata": {},
          "output_type": "execute_result"
        }
      ],
      "source": [
        "users.is_habit_smoke=users.is_habit_smoke.replace(to_replace=\"N\",value=\"\")\n",
        "users.is_habit_smoke=users.is_habit_smoke.replace(to_replace=\"O\",value=\"Smoke\")\n",
        "users.is_habit_smoke=users.is_habit_smoke.replace(to_replace=\"S\",value=\"Social\")\n",
        "users.is_habit_smoke.value_counts()"
      ]
    },
    {
      "cell_type": "code",
      "execution_count": 114,
      "metadata": {
        "id": "RDZQBdcQC4Q9"
      },
      "outputs": [
        {
          "data": {
            "text/plain": [
              "            1217\n",
              "Verified     188\n",
              "Name: is_verified, dtype: int64"
            ]
          },
          "execution_count": 114,
          "metadata": {},
          "output_type": "execute_result"
        }
      ],
      "source": [
        "def ver(ob):\n",
        "  if ob:\n",
        "    return \"Verified\"\n",
        "  else:\n",
        "    return \"\"\n",
        "users.is_verified=users.is_verified.apply(ver)\n",
        "users.is_verified.value_counts()\n"
      ]
    },
    {
      "cell_type": "code",
      "execution_count": 115,
      "metadata": {
        "id": "CZlMdnudD0Dz"
      },
      "outputs": [
        {
          "data": {
            "text/plain": [
              "pandas.core.series.Series"
            ]
          },
          "execution_count": 115,
          "metadata": {},
          "output_type": "execute_result"
        }
      ],
      "source": [
        "users.is_subscribed.value_counts()\n",
        "type(users.is_subscribed)"
      ]
    },
    {
      "cell_type": "code",
      "execution_count": 116,
      "metadata": {
        "id": "nytbHfNRDjvH"
      },
      "outputs": [
        {
          "data": {
            "text/plain": [
              "              848\n",
              "Subscribed    557\n",
              "Name: is_subscribed, dtype: int64"
            ]
          },
          "execution_count": 116,
          "metadata": {},
          "output_type": "execute_result"
        }
      ],
      "source": [
        "# def ver(ob):\n",
        "#   if ob:\n",
        "#     return \"Subscribed\"\n",
        "#   else:\n",
        "#     return \"No\"\n",
        "users.is_subscribed=users.is_subscribed.apply(lambda x:str(x))\n",
        "users.is_subscribed=users.is_subscribed.replace(to_replace=\"True\",value=\"Subscribed\")\n",
        "users.is_subscribed=users.is_subscribed.replace(to_replace=\"nan\",value=\"\")\n",
        "users.is_subscribed.value_counts()"
      ]
    },
    {
      "cell_type": "code",
      "execution_count": 117,
      "metadata": {
        "id": "Jpra809nQQqh"
      },
      "outputs": [
        {
          "name": "stdout",
          "output_type": "stream",
          "text": [
            "<class 'pandas.core.frame.DataFrame'>\n",
            "RangeIndex: 1405 entries, 0 to 1404\n",
            "Data columns (total 26 columns):\n",
            " #   Column                        Non-Null Count  Dtype  \n",
            "---  ------                        --------------  -----  \n",
            " 0   _id                           1405 non-null   int64  \n",
            " 1   bio                           1076 non-null   object \n",
            " 2   college                       1405 non-null   object \n",
            " 3   country                       1405 non-null   object \n",
            " 4   createdAt                     1405 non-null   object \n",
            " 5   dob                           1192 non-null   object \n",
            " 6   email                         1405 non-null   object \n",
            " 7   face_detection_probabilities  765 non-null    object \n",
            " 8   gender                        1258 non-null   object \n",
            " 9   height                        646 non-null    float64\n",
            " 10  insta_username                0 non-null      float64\n",
            " 11  interests                     1405 non-null   object \n",
            " 12  is_habit_drink                883 non-null    object \n",
            " 13  is_habit_smoke                880 non-null    object \n",
            " 14  is_verified                   1405 non-null   object \n",
            " 15  mobile                        1405 non-null   int64  \n",
            " 16  name                          1261 non-null   object \n",
            " 17  status                        1405 non-null   bool   \n",
            " 18  type                          1405 non-null   object \n",
            " 19  updatedAt                     1405 non-null   object \n",
            " 20  verified_at                   178 non-null    object \n",
            " 21  what_to_find                  884 non-null    object \n",
            " 22  who_to_date                   1190 non-null   object \n",
            " 23  is_subscribed                 1405 non-null   object \n",
            " 24  clg                           1405 non-null   object \n",
            " 25  age                           1192 non-null   float64\n",
            "dtypes: bool(1), float64(3), int64(2), object(20)\n",
            "memory usage: 275.9+ KB\n"
          ]
        }
      ],
      "source": [
        "users.info()"
      ]
    },
    {
      "cell_type": "markdown",
      "metadata": {
        "id": "InBF74HQQh27"
      },
      "source": []
    },
    {
      "cell_type": "code",
      "execution_count": 118,
      "metadata": {
        "id": "2TQmsMW9QiID"
      },
      "outputs": [
        {
          "data": {
            "text/plain": [
              "str"
            ]
          },
          "execution_count": 118,
          "metadata": {},
          "output_type": "execute_result"
        }
      ],
      "source": [
        "type(users.interests[9])"
      ]
    },
    {
      "cell_type": "code",
      "execution_count": 119,
      "metadata": {
        "id": "4UikPqnMRk29"
      },
      "outputs": [
        {
          "name": "stderr",
          "output_type": "stream",
          "text": [
            "C:\\Users\\Pushkar Waykole\\AppData\\Local\\Temp\\ipykernel_12332\\1245023733.py:11: SettingWithCopyWarning: \n",
            "A value is trying to be set on a copy of a slice from a DataFrame\n",
            "\n",
            "See the caveats in the documentation: https://pandas.pydata.org/pandas-docs/stable/user_guide/indexing.html#returning-a-view-versus-a-copy\n",
            "  users.face_detection_probabilities.iloc[i] = max(list(map(float, ls)))\n",
            "C:\\Users\\Pushkar Waykole\\AppData\\Local\\Temp\\ipykernel_12332\\1245023733.py:7: SettingWithCopyWarning: \n",
            "A value is trying to be set on a copy of a slice from a DataFrame\n",
            "\n",
            "See the caveats in the documentation: https://pandas.pydata.org/pandas-docs/stable/user_guide/indexing.html#returning-a-view-versus-a-copy\n",
            "  users.face_detection_probabilities.iloc[i] = 0\n",
            "C:\\Users\\Pushkar Waykole\\AppData\\Local\\Temp\\ipykernel_12332\\1245023733.py:3: SettingWithCopyWarning: \n",
            "A value is trying to be set on a copy of a slice from a DataFrame\n",
            "\n",
            "See the caveats in the documentation: https://pandas.pydata.org/pandas-docs/stable/user_guide/indexing.html#returning-a-view-versus-a-copy\n",
            "  users.face_detection_probabilities.iloc[i] = 0\n"
          ]
        },
        {
          "data": {
            "text/plain": [
              "0       90.702808\n",
              "1               0\n",
              "2       88.672245\n",
              "3       96.189952\n",
              "4               0\n",
              "          ...    \n",
              "1400    61.251795\n",
              "1401    99.274659\n",
              "1402    88.438052\n",
              "1403            0\n",
              "1404    98.566622\n",
              "Name: face_detection_probabilities, Length: 1405, dtype: object"
            ]
          },
          "execution_count": 119,
          "metadata": {},
          "output_type": "execute_result"
        }
      ],
      "source": [
        "for i, val in enumerate(users.face_detection_probabilities):\n",
        "  if isinstance(val, float):\n",
        "    users.face_detection_probabilities.iloc[i] = 0\n",
        "  else:\n",
        "    ls = val[1:-1].split(',')\n",
        "    if ls == ['']:\n",
        "      users.face_detection_probabilities.iloc[i] = 0\n",
        "      # print(users.face_detection_probabilities.iloc[i])\n",
        "    else:\n",
        "      # print(ls)\n",
        "      users.face_detection_probabilities.iloc[i] = max(list(map(float, ls)))\n",
        "      # print(max(list(map(float, ls))))\n",
        "\n",
        "users.face_detection_probabilities"
      ]
    },
    {
      "cell_type": "code",
      "execution_count": 120,
      "metadata": {
        "id": "8g81i84ISV3C"
      },
      "outputs": [
        {
          "name": "stdout",
          "output_type": "stream",
          "text": [
            "<class 'pandas.core.frame.DataFrame'>\n",
            "RangeIndex: 1405 entries, 0 to 1404\n",
            "Data columns (total 26 columns):\n",
            " #   Column                        Non-Null Count  Dtype  \n",
            "---  ------                        --------------  -----  \n",
            " 0   _id                           1405 non-null   int64  \n",
            " 1   bio                           1076 non-null   object \n",
            " 2   college                       1405 non-null   object \n",
            " 3   country                       1405 non-null   object \n",
            " 4   createdAt                     1405 non-null   object \n",
            " 5   dob                           1192 non-null   object \n",
            " 6   email                         1405 non-null   object \n",
            " 7   face_detection_probabilities  1405 non-null   object \n",
            " 8   gender                        1258 non-null   object \n",
            " 9   height                        646 non-null    float64\n",
            " 10  insta_username                0 non-null      float64\n",
            " 11  interests                     1405 non-null   object \n",
            " 12  is_habit_drink                883 non-null    object \n",
            " 13  is_habit_smoke                880 non-null    object \n",
            " 14  is_verified                   1405 non-null   object \n",
            " 15  mobile                        1405 non-null   int64  \n",
            " 16  name                          1261 non-null   object \n",
            " 17  status                        1405 non-null   bool   \n",
            " 18  type                          1405 non-null   object \n",
            " 19  updatedAt                     1405 non-null   object \n",
            " 20  verified_at                   178 non-null    object \n",
            " 21  what_to_find                  884 non-null    object \n",
            " 22  who_to_date                   1190 non-null   object \n",
            " 23  is_subscribed                 1405 non-null   object \n",
            " 24  clg                           1405 non-null   object \n",
            " 25  age                           1192 non-null   float64\n",
            "dtypes: bool(1), float64(3), int64(2), object(20)\n",
            "memory usage: 275.9+ KB\n"
          ]
        }
      ],
      "source": [
        "users.info()"
      ]
    },
    {
      "cell_type": "code",
      "execution_count": 121,
      "metadata": {
        "id": "RBXXNvSsTLej"
      },
      "outputs": [
        {
          "data": {
            "text/plain": [
              "str"
            ]
          },
          "execution_count": 121,
          "metadata": {},
          "output_type": "execute_result"
        }
      ],
      "source": [
        "type(str(users.bio))"
      ]
    },
    {
      "cell_type": "code",
      "execution_count": 122,
      "metadata": {
        "id": "uh6jVp6SWYs2"
      },
      "outputs": [
        {
          "data": {
            "text/plain": [
              "pandas.core.series.Series"
            ]
          },
          "execution_count": 122,
          "metadata": {},
          "output_type": "execute_result"
        }
      ],
      "source": [
        "type(users.face_detection_probabilities)"
      ]
    },
    {
      "cell_type": "code",
      "execution_count": 123,
      "metadata": {
        "id": "NU8C9RzTXBs3"
      },
      "outputs": [
        {
          "data": {
            "text/plain": [
              "0       175.0\n",
              "1       177.0\n",
              "2       175.0\n",
              "3       177.0\n",
              "4       178.0\n",
              "        ...  \n",
              "1400      NaN\n",
              "1401      NaN\n",
              "1402      NaN\n",
              "1403      NaN\n",
              "1404      NaN\n",
              "Name: height, Length: 1405, dtype: float64"
            ]
          },
          "execution_count": 123,
          "metadata": {},
          "output_type": "execute_result"
        }
      ],
      "source": [
        "users.height"
      ]
    },
    {
      "cell_type": "code",
      "execution_count": 124,
      "metadata": {
        "id": "wRUbOz67cET5"
      },
      "outputs": [
        {
          "data": {
            "text/plain": [
              "str"
            ]
          },
          "execution_count": 124,
          "metadata": {},
          "output_type": "execute_result"
        }
      ],
      "source": [
        "type(str(users.height))"
      ]
    },
    {
      "cell_type": "code",
      "execution_count": 125,
      "metadata": {
        "id": "19tYLMsOQLkz"
      },
      "outputs": [],
      "source": [
        "users['tags']=users['bio']+users['clg']+users['dob']+users['gender']+users['interests']+users['is_habit_drink']+users['is_habit_smoke']+users['is_subscribed']+users['is_verified']+users['name']+users['who_to_date']\n",
        "users.tags=users.tags.replace(to_replace=\"\\n\",value=\" \")\n"
      ]
    },
    {
      "cell_type": "code",
      "execution_count": 126,
      "metadata": {
        "id": "cDupLG5FUiJ8"
      },
      "outputs": [
        {
          "data": {
            "text/html": [
              "<div>\n",
              "<style scoped>\n",
              "    .dataframe tbody tr th:only-of-type {\n",
              "        vertical-align: middle;\n",
              "    }\n",
              "\n",
              "    .dataframe tbody tr th {\n",
              "        vertical-align: top;\n",
              "    }\n",
              "\n",
              "    .dataframe thead th {\n",
              "        text-align: right;\n",
              "    }\n",
              "</style>\n",
              "<table border=\"1\" class=\"dataframe\">\n",
              "  <thead>\n",
              "    <tr style=\"text-align: right;\">\n",
              "      <th></th>\n",
              "      <th>_id</th>\n",
              "      <th>tags</th>\n",
              "    </tr>\n",
              "  </thead>\n",
              "  <tbody>\n",
              "    <tr>\n",
              "      <th>0</th>\n",
              "      <td>0</td>\n",
              "      <td>I am very honest and caring personJNU2002-07-1...</td>\n",
              "    </tr>\n",
              "    <tr>\n",
              "      <th>1</th>\n",
              "      <td>1</td>\n",
              "      <td>Let's go on a date.HERITAGE1999-02-26MaleSingi...</td>\n",
              "    </tr>\n",
              "    <tr>\n",
              "      <th>2</th>\n",
              "      <td>2</td>\n",
              "      <td>Loving lifeJNU2001-01-08FemaleBadminton,Design...</td>\n",
              "    </tr>\n",
              "    <tr>\n",
              "      <th>3</th>\n",
              "      <td>3</td>\n",
              "      <td>Jai Maharashtra\\n🥲Bharat Mata ki Jay.....\\nInq...</td>\n",
              "    </tr>\n",
              "    <tr>\n",
              "      <th>4</th>\n",
              "      <td>4</td>\n",
              "      <td>🙄JNU2000-07-31MaleFootball,Gym,Biryani,Sci-fi,...</td>\n",
              "    </tr>\n",
              "  </tbody>\n",
              "</table>\n",
              "</div>"
            ],
            "text/plain": [
              "   _id                                               tags\n",
              "0    0  I am very honest and caring personJNU2002-07-1...\n",
              "1    1  Let's go on a date.HERITAGE1999-02-26MaleSingi...\n",
              "2    2  Loving lifeJNU2001-01-08FemaleBadminton,Design...\n",
              "3    3  Jai Maharashtra\\n🥲Bharat Mata ki Jay.....\\nInq...\n",
              "4    4  🙄JNU2000-07-31MaleFootball,Gym,Biryani,Sci-fi,..."
            ]
          },
          "execution_count": 126,
          "metadata": {},
          "output_type": "execute_result"
        }
      ],
      "source": [
        "new_df=users[['_id','tags']]\n",
        "new_df.head()"
      ]
    },
    {
      "cell_type": "code",
      "execution_count": 127,
      "metadata": {},
      "outputs": [],
      "source": [
        "from sklearn.feature_extraction.text import CountVectorizer\n",
        "cv=CountVectorizer(max_features=5000,stop_words='english')"
      ]
    },
    {
      "cell_type": "code",
      "execution_count": 128,
      "metadata": {},
      "outputs": [],
      "source": [
        "vectors=cv.fit_transform(new_df['tags'].values.astype('U'))"
      ]
    },
    {
      "cell_type": "code",
      "execution_count": 129,
      "metadata": {},
      "outputs": [
        {
          "data": {
            "text/plain": [
              "array(['01', '01femaleart', '01femalefeminism', ..., '𝐒𝐜𝐡𝐨𝐥𝐚𝐫',\n",
              "       '𝐔𝐧𝐢𝐯𝐞𝐫𝐬𝐢𝐭𝐲', '𝐔𝐧𝐢𝐯𝐞𝐫𝐬𝐢𝐭𝐲___'], dtype=object)"
            ]
          },
          "execution_count": 129,
          "metadata": {},
          "output_type": "execute_result"
        }
      ],
      "source": [
        "cv.get_feature_names_out()"
      ]
    },
    {
      "cell_type": "code",
      "execution_count": 130,
      "metadata": {},
      "outputs": [
        {
          "name": "stdout",
          "output_type": "stream",
          "text": [
            "Requirement already satisfied: nltk in c:\\users\\pushkar waykole\\appdata\\local\\programs\\python\\python310\\lib\\site-packages (3.8.1)\n",
            "Requirement already satisfied: joblib in c:\\users\\pushkar waykole\\appdata\\local\\programs\\python\\python310\\lib\\site-packages (from nltk) (1.2.0)\n",
            "Requirement already satisfied: tqdm in c:\\users\\pushkar waykole\\appdata\\local\\programs\\python\\python310\\lib\\site-packages (from nltk) (4.64.1)\n",
            "Requirement already satisfied: regex>=2021.8.3 in c:\\users\\pushkar waykole\\appdata\\local\\programs\\python\\python310\\lib\\site-packages (from nltk) (2022.10.31)\n",
            "Requirement already satisfied: click in c:\\users\\pushkar waykole\\appdata\\local\\programs\\python\\python310\\lib\\site-packages (from nltk) (8.0.4)\n",
            "Requirement already satisfied: colorama in c:\\users\\pushkar waykole\\appdata\\local\\programs\\python\\python310\\lib\\site-packages (from click->nltk) (0.4.4)\n",
            "Note: you may need to restart the kernel to use updated packages.\n"
          ]
        },
        {
          "name": "stderr",
          "output_type": "stream",
          "text": [
            "\n",
            "[notice] A new release of pip is available: 23.0 -> 23.0.1\n",
            "[notice] To update, run: python.exe -m pip install --upgrade pip\n"
          ]
        }
      ],
      "source": [
        "%pip install nltk"
      ]
    },
    {
      "cell_type": "code",
      "execution_count": 131,
      "metadata": {},
      "outputs": [],
      "source": [
        "import nltk\n",
        "from nltk.stem.porter import PorterStemmer\n",
        "ps=PorterStemmer()\n",
        "\n",
        "def stem(text):\n",
        "    y=[]\n",
        "    print(text, type(text))\n",
        "    for i in text.split():\n",
        "        y.append(ps.stem(i))\n",
        "    \n",
        "    return \" \".join(y)"
      ]
    },
    {
      "cell_type": "code",
      "execution_count": 132,
      "metadata": {},
      "outputs": [
        {
          "data": {
            "text/plain": [
              "0       I am very honest and caring personJNU2002-07-1...\n",
              "1       Let's go on a date.HERITAGE1999-02-26MaleSingi...\n",
              "2       Loving lifeJNU2001-01-08FemaleBadminton,Design...\n",
              "3       Jai Maharashtra\\n🥲Bharat Mata ki Jay.....\\nInq...\n",
              "4       🙄JNU2000-07-31MaleFootball,Gym,Biryani,Sci-fi,...\n",
              "                              ...                        \n",
              "1400                                                  NaN\n",
              "1401                                                  NaN\n",
              "1402                                                  NaN\n",
              "1403                                                  NaN\n",
              "1404                                                  NaN\n",
              "Name: tags, Length: 1405, dtype: object"
            ]
          },
          "execution_count": 132,
          "metadata": {},
          "output_type": "execute_result"
        }
      ],
      "source": [
        "new_df['tags']"
      ]
    },
    {
      "cell_type": "code",
      "execution_count": 133,
      "metadata": {},
      "outputs": [
        {
          "data": {
            "text/plain": [
              "[0        True\n",
              " 1        True\n",
              " 2        True\n",
              " 3        True\n",
              " 4        True\n",
              "         ...  \n",
              " 1400    False\n",
              " 1401    False\n",
              " 1402    False\n",
              " 1403    False\n",
              " 1404    False\n",
              " Name: tags, Length: 1405, dtype: bool]"
            ]
          },
          "execution_count": 133,
          "metadata": {},
          "output_type": "execute_result"
        }
      ],
      "source": [
        "[new_df['tags'].notna()]"
      ]
    },
    {
      "cell_type": "code",
      "execution_count": 134,
      "metadata": {},
      "outputs": [
        {
          "data": {
            "text/html": [
              "<div>\n",
              "<style scoped>\n",
              "    .dataframe tbody tr th:only-of-type {\n",
              "        vertical-align: middle;\n",
              "    }\n",
              "\n",
              "    .dataframe tbody tr th {\n",
              "        vertical-align: top;\n",
              "    }\n",
              "\n",
              "    .dataframe thead th {\n",
              "        text-align: right;\n",
              "    }\n",
              "</style>\n",
              "<table border=\"1\" class=\"dataframe\">\n",
              "  <thead>\n",
              "    <tr style=\"text-align: right;\">\n",
              "      <th></th>\n",
              "      <th>_id</th>\n",
              "      <th>tags</th>\n",
              "    </tr>\n",
              "  </thead>\n",
              "  <tbody>\n",
              "    <tr>\n",
              "      <th>0</th>\n",
              "      <td>0</td>\n",
              "      <td>I am very honest and caring personJNU2002-07-1...</td>\n",
              "    </tr>\n",
              "    <tr>\n",
              "      <th>1</th>\n",
              "      <td>1</td>\n",
              "      <td>Let's go on a date.HERITAGE1999-02-26MaleSingi...</td>\n",
              "    </tr>\n",
              "    <tr>\n",
              "      <th>2</th>\n",
              "      <td>2</td>\n",
              "      <td>Loving lifeJNU2001-01-08FemaleBadminton,Design...</td>\n",
              "    </tr>\n",
              "    <tr>\n",
              "      <th>3</th>\n",
              "      <td>3</td>\n",
              "      <td>Jai Maharashtra\\n🥲Bharat Mata ki Jay.....\\nInq...</td>\n",
              "    </tr>\n",
              "    <tr>\n",
              "      <th>4</th>\n",
              "      <td>4</td>\n",
              "      <td>🙄JNU2000-07-31MaleFootball,Gym,Biryani,Sci-fi,...</td>\n",
              "    </tr>\n",
              "    <tr>\n",
              "      <th>...</th>\n",
              "      <td>...</td>\n",
              "      <td>...</td>\n",
              "    </tr>\n",
              "    <tr>\n",
              "      <th>1369</th>\n",
              "      <td>1369</td>\n",
              "      <td>Beyond all ideas of wrong doings and right doi...</td>\n",
              "    </tr>\n",
              "    <tr>\n",
              "      <th>1371</th>\n",
              "      <td>1371</td>\n",
              "      <td>Hey.college of vocational studies2003-04-23Fem...</td>\n",
              "    </tr>\n",
              "    <tr>\n",
              "      <th>1375</th>\n",
              "      <td>1375</td>\n",
              "      <td>Up for picnic and book reading session?miranda...</td>\n",
              "    </tr>\n",
              "    <tr>\n",
              "      <th>1391</th>\n",
              "      <td>1391</td>\n",
              "      <td>Let's talk about movies, memes and metaphysics...</td>\n",
              "    </tr>\n",
              "    <tr>\n",
              "      <th>1395</th>\n",
              "      <td>1395</td>\n",
              "      <td>Hii I am Chandan Kumar from Bihar Sitamarhi,ra...</td>\n",
              "    </tr>\n",
              "  </tbody>\n",
              "</table>\n",
              "<p>794 rows × 2 columns</p>\n",
              "</div>"
            ],
            "text/plain": [
              "       _id                                               tags\n",
              "0        0  I am very honest and caring personJNU2002-07-1...\n",
              "1        1  Let's go on a date.HERITAGE1999-02-26MaleSingi...\n",
              "2        2  Loving lifeJNU2001-01-08FemaleBadminton,Design...\n",
              "3        3  Jai Maharashtra\\n🥲Bharat Mata ki Jay.....\\nInq...\n",
              "4        4  🙄JNU2000-07-31MaleFootball,Gym,Biryani,Sci-fi,...\n",
              "...    ...                                                ...\n",
              "1369  1369  Beyond all ideas of wrong doings and right doi...\n",
              "1371  1371  Hey.college of vocational studies2003-04-23Fem...\n",
              "1375  1375  Up for picnic and book reading session?miranda...\n",
              "1391  1391  Let's talk about movies, memes and metaphysics...\n",
              "1395  1395  Hii I am Chandan Kumar from Bihar Sitamarhi,ra...\n",
              "\n",
              "[794 rows x 2 columns]"
            ]
          },
          "execution_count": 134,
          "metadata": {},
          "output_type": "execute_result"
        }
      ],
      "source": [
        "new_df[new_df['tags'].notna()]"
      ]
    },
    {
      "cell_type": "code",
      "execution_count": 135,
      "metadata": {},
      "outputs": [
        {
          "ename": "ValueError",
          "evalue": "Columns must be same length as key",
          "output_type": "error",
          "traceback": [
            "\u001b[1;31m---------------------------------------------------------------------------\u001b[0m",
            "\u001b[1;31mValueError\u001b[0m                                Traceback (most recent call last)",
            "\u001b[1;32mc:\\Users\\Pushkar Waykole\\Desktop\\Clash of codes\\reccommend.ipynb Cell 64\u001b[0m in \u001b[0;36m<cell line: 1>\u001b[1;34m()\u001b[0m\n\u001b[1;32m----> <a href='vscode-notebook-cell:/c%3A/Users/Pushkar%20Waykole/Desktop/Clash%20of%20codes/reccommend.ipynb#Y114sZmlsZQ%3D%3D?line=0'>1</a>\u001b[0m new_df[\u001b[39m'\u001b[39m\u001b[39mtags\u001b[39m\u001b[39m'\u001b[39m]\u001b[39m=\u001b[39mnew_df[new_df[\u001b[39m'\u001b[39m\u001b[39mtags\u001b[39m\u001b[39m'\u001b[39m]\u001b[39m.\u001b[39mnotna()]\n\u001b[0;32m      <a href='vscode-notebook-cell:/c%3A/Users/Pushkar%20Waykole/Desktop/Clash%20of%20codes/reccommend.ipynb#Y114sZmlsZQ%3D%3D?line=1'>2</a>\u001b[0m new_df[\u001b[39m'\u001b[39m\u001b[39mtags\u001b[39m\u001b[39m'\u001b[39m]\u001b[39m=\u001b[39mnew_df[\u001b[39m'\u001b[39m\u001b[39mtags\u001b[39m\u001b[39m'\u001b[39m]\u001b[39m.\u001b[39mapply(stem)\n",
            "File \u001b[1;32mc:\\Users\\Pushkar Waykole\\AppData\\Local\\Programs\\Python\\Python310\\lib\\site-packages\\pandas\\core\\frame.py:3645\u001b[0m, in \u001b[0;36mDataFrame.__setitem__\u001b[1;34m(self, key, value)\u001b[0m\n\u001b[0;32m   3643\u001b[0m     \u001b[39mself\u001b[39m\u001b[39m.\u001b[39m_setitem_array(key, value)\n\u001b[0;32m   3644\u001b[0m \u001b[39melif\u001b[39;00m \u001b[39misinstance\u001b[39m(value, DataFrame):\n\u001b[1;32m-> 3645\u001b[0m     \u001b[39mself\u001b[39;49m\u001b[39m.\u001b[39;49m_set_item_frame_value(key, value)\n\u001b[0;32m   3646\u001b[0m \u001b[39melif\u001b[39;00m (\n\u001b[0;32m   3647\u001b[0m     is_list_like(value)\n\u001b[0;32m   3648\u001b[0m     \u001b[39mand\u001b[39;00m \u001b[39mnot\u001b[39;00m \u001b[39mself\u001b[39m\u001b[39m.\u001b[39mcolumns\u001b[39m.\u001b[39mis_unique\n\u001b[0;32m   3649\u001b[0m     \u001b[39mand\u001b[39;00m \u001b[39m1\u001b[39m \u001b[39m<\u001b[39m \u001b[39mlen\u001b[39m(\u001b[39mself\u001b[39m\u001b[39m.\u001b[39mcolumns\u001b[39m.\u001b[39mget_indexer_for([key])) \u001b[39m==\u001b[39m \u001b[39mlen\u001b[39m(value)\n\u001b[0;32m   3650\u001b[0m ):\n\u001b[0;32m   3651\u001b[0m     \u001b[39m# Column to set is duplicated\u001b[39;00m\n\u001b[0;32m   3652\u001b[0m     \u001b[39mself\u001b[39m\u001b[39m.\u001b[39m_setitem_array([key], value)\n",
            "File \u001b[1;32mc:\\Users\\Pushkar Waykole\\AppData\\Local\\Programs\\Python\\Python310\\lib\\site-packages\\pandas\\core\\frame.py:3775\u001b[0m, in \u001b[0;36mDataFrame._set_item_frame_value\u001b[1;34m(self, key, value)\u001b[0m\n\u001b[0;32m   3773\u001b[0m len_cols \u001b[39m=\u001b[39m \u001b[39m1\u001b[39m \u001b[39mif\u001b[39;00m is_scalar(cols) \u001b[39melse\u001b[39;00m \u001b[39mlen\u001b[39m(cols)\n\u001b[0;32m   3774\u001b[0m \u001b[39mif\u001b[39;00m len_cols \u001b[39m!=\u001b[39m \u001b[39mlen\u001b[39m(value\u001b[39m.\u001b[39mcolumns):\n\u001b[1;32m-> 3775\u001b[0m     \u001b[39mraise\u001b[39;00m \u001b[39mValueError\u001b[39;00m(\u001b[39m\"\u001b[39m\u001b[39mColumns must be same length as key\u001b[39m\u001b[39m\"\u001b[39m)\n\u001b[0;32m   3777\u001b[0m \u001b[39m# align right-hand-side columns if self.columns\u001b[39;00m\n\u001b[0;32m   3778\u001b[0m \u001b[39m# is multi-index and self[key] is a sub-frame\u001b[39;00m\n\u001b[0;32m   3779\u001b[0m \u001b[39mif\u001b[39;00m \u001b[39misinstance\u001b[39m(\u001b[39mself\u001b[39m\u001b[39m.\u001b[39mcolumns, MultiIndex) \u001b[39mand\u001b[39;00m \u001b[39misinstance\u001b[39m(\n\u001b[0;32m   3780\u001b[0m     loc, (\u001b[39mslice\u001b[39m, Series, np\u001b[39m.\u001b[39mndarray, Index)\n\u001b[0;32m   3781\u001b[0m ):\n",
            "\u001b[1;31mValueError\u001b[0m: Columns must be same length as key"
          ]
        }
      ],
      "source": [
        "new_df['tags']=new_df[new_df['tags'].notna()]\n",
        "new_df['tags']=new_df['tags'].apply(stem)"
      ]
    },
    {
      "cell_type": "code",
      "execution_count": null,
      "metadata": {},
      "outputs": [],
      "source": []
    }
  ],
  "metadata": {
    "colab": {
      "provenance": []
    },
    "kernelspec": {
      "display_name": "Python 3",
      "name": "python3"
    },
    "language_info": {
      "codemirror_mode": {
        "name": "ipython",
        "version": 3
      },
      "file_extension": ".py",
      "mimetype": "text/x-python",
      "name": "python",
      "nbconvert_exporter": "python",
      "pygments_lexer": "ipython3",
      "version": "3.10.2"
    }
  },
  "nbformat": 4,
  "nbformat_minor": 0
}
